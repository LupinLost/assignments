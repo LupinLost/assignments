{
  "nbformat": 4,
  "nbformat_minor": 0,
  "metadata": {
    "colab": {
      "name": "Week-02-Python.ipynb",
      "provenance": [],
      "collapsed_sections": [],
      "toc_visible": true,
      "authorship_tag": "ABX9TyOvj76s9RcV69ljGaW3zlYd",
      "include_colab_link": true
    },
    "kernelspec": {
      "name": "python3",
      "display_name": "Python 3"
    }
  },
  "cells": [
    {
      "cell_type": "markdown",
      "metadata": {
        "id": "view-in-github",
        "colab_type": "text"
      },
      "source": [
        "<a href=\"https://colab.research.google.com/github/cs432-websci-spr20/assignments/blob/master/Week_02_Python.ipynb\" target=\"_parent\"><img src=\"https://colab.research.google.com/assets/colab-badge.svg\" alt=\"Open In Colab\"/></a>"
      ]
    },
    {
      "cell_type": "markdown",
      "metadata": {
        "id": "tV4fe0DCfd1a",
        "colab_type": "text"
      },
      "source": [
        "# CS 432/532 - Week 02 - Python\n",
        "\n",
        "This notebook goes along with the [Week-02 Python slides](https://docs.google.com/presentation/d/1QvcImKQdCGBC9vcwSVg5C4cSmlxire90WBxrNmzmci8/edit?usp=sharing) from [CS 432/532 Spring 2020](https://www.cs.odu.edu/~mweigle/CS432-S20/Home)\n",
        "\n",
        "Google Colab tutorials and references:\n",
        "* [Overview of Colaboratory Features](https://colab.research.google.com/notebooks/basic_features_overview.ipynb)\n",
        "* [Welcome to Colaboratory](https://colab.research.google.com/notebooks/welcome.ipynb)\n",
        "* [Loading Data](https://colab.research.google.com/notebooks/io.ipynb)\n",
        "* [Colab and GitHub](https://colab.research.google.com/github/googlecolab/colabtools/blob/master/notebooks/colab-github-demo.ipynb)"
      ]
    },
    {
      "cell_type": "markdown",
      "metadata": {
        "id": "uNLQepV3f9_8",
        "colab_type": "text"
      },
      "source": [
        "## Interactive Python Shell"
      ]
    },
    {
      "cell_type": "markdown",
      "metadata": {
        "id": "nHvxncu0ggRX",
        "colab_type": "text"
      },
      "source": [
        "*Print Python version used in the notebook*"
      ]
    },
    {
      "cell_type": "code",
      "metadata": {
        "id": "P8w3OpwFgAm7",
        "colab_type": "code",
        "colab": {}
      },
      "source": [
        "import platform; print(platform.python_version())"
      ],
      "execution_count": 0,
      "outputs": []
    },
    {
      "cell_type": "code",
      "metadata": {
        "id": "eUnHDzUkgpHt",
        "colab_type": "code",
        "colab": {}
      },
      "source": [
        "help(print)"
      ],
      "execution_count": 0,
      "outputs": []
    },
    {
      "cell_type": "code",
      "metadata": {
        "id": "zzeTWQzogrKw",
        "colab_type": "code",
        "colab": {}
      },
      "source": [
        "print(\"Hello World!\")"
      ],
      "execution_count": 0,
      "outputs": []
    },
    {
      "cell_type": "code",
      "metadata": {
        "id": "x3fS5jHrgsvF",
        "colab_type": "code",
        "colab": {}
      },
      "source": [
        "2 + 3 * 4 / 5"
      ],
      "execution_count": 0,
      "outputs": []
    },
    {
      "cell_type": "markdown",
      "metadata": {
        "id": "IoMgafEvjOAS",
        "colab_type": "text"
      },
      "source": [
        "## Data Types"
      ]
    },
    {
      "cell_type": "markdown",
      "metadata": {
        "id": "M7wUX9B8hDiB",
        "colab_type": "text"
      },
      "source": [
        "### String vs. Bytes"
      ]
    },
    {
      "cell_type": "code",
      "metadata": {
        "id": "NhADk6DBhG2K",
        "colab_type": "code",
        "colab": {}
      },
      "source": [
        "type(\"Hello\")"
      ],
      "execution_count": 0,
      "outputs": []
    },
    {
      "cell_type": "code",
      "metadata": {
        "id": "i9MyF1yihHow",
        "colab_type": "code",
        "colab": {}
      },
      "source": [
        "type(b\"Hello\")"
      ],
      "execution_count": 0,
      "outputs": []
    },
    {
      "cell_type": "code",
      "metadata": {
        "id": "ZL9huvCGhJKo",
        "colab_type": "code",
        "colab": {}
      },
      "source": [
        "b\"Hello\".decode()"
      ],
      "execution_count": 0,
      "outputs": []
    },
    {
      "cell_type": "code",
      "metadata": {
        "id": "gcoqJCW8hKdA",
        "colab_type": "code",
        "colab": {}
      },
      "source": [
        "\"Hello\".encode()"
      ],
      "execution_count": 0,
      "outputs": []
    },
    {
      "cell_type": "markdown",
      "metadata": {
        "id": "M1NtxPrUh8mv",
        "colab_type": "text"
      },
      "source": [
        "### List"
      ]
    },
    {
      "cell_type": "code",
      "metadata": {
        "id": "-XNaG2R5h95X",
        "colab_type": "code",
        "colab": {}
      },
      "source": [
        "mylist = [0, 'a', \"hello\", 1, 2, ['b', 'c', 'd']]"
      ],
      "execution_count": 0,
      "outputs": []
    },
    {
      "cell_type": "code",
      "metadata": {
        "id": "Vj3W47_XixpA",
        "colab_type": "code",
        "colab": {}
      },
      "source": [
        "mylist [1]"
      ],
      "execution_count": 0,
      "outputs": []
    },
    {
      "cell_type": "code",
      "metadata": {
        "id": "gp_sA2pFiyOW",
        "colab_type": "code",
        "colab": {}
      },
      "source": [
        "mylist [5][1]"
      ],
      "execution_count": 0,
      "outputs": []
    },
    {
      "cell_type": "code",
      "metadata": {
        "id": "1HiqElADizYv",
        "colab_type": "code",
        "colab": {}
      },
      "source": [
        "mylist[1:3]"
      ],
      "execution_count": 0,
      "outputs": []
    },
    {
      "cell_type": "code",
      "metadata": {
        "id": "gPW8jbx5i0jI",
        "colab_type": "code",
        "colab": {}
      },
      "source": [
        "mylist[:2]"
      ],
      "execution_count": 0,
      "outputs": []
    },
    {
      "cell_type": "code",
      "metadata": {
        "id": "ZmwsmgNxi16m",
        "colab_type": "code",
        "colab": {}
      },
      "source": [
        "mylist[3:]"
      ],
      "execution_count": 0,
      "outputs": []
    },
    {
      "cell_type": "code",
      "metadata": {
        "id": "kT85-teZi5mF",
        "colab_type": "code",
        "colab": {}
      },
      "source": [
        "mylist.remove('a')\n",
        "mylist"
      ],
      "execution_count": 0,
      "outputs": []
    },
    {
      "cell_type": "markdown",
      "metadata": {
        "id": "j8qhpJwrjDQU",
        "colab_type": "text"
      },
      "source": [
        "### Tuple"
      ]
    },
    {
      "cell_type": "code",
      "metadata": {
        "id": "6DCmir_NjEuE",
        "colab_type": "code",
        "colab": {}
      },
      "source": [
        "X = (0, 1, 2, 3, 4)\n",
        "print (X[3])"
      ],
      "execution_count": 0,
      "outputs": []
    },
    {
      "cell_type": "markdown",
      "metadata": {
        "id": "5eSzWzhHjKNr",
        "colab_type": "text"
      },
      "source": [
        "### Dictionary"
      ]
    },
    {
      "cell_type": "code",
      "metadata": {
        "id": "d87Z9hTzjVY6",
        "colab_type": "code",
        "colab": {}
      },
      "source": [
        "marks = {\"science\": 90, \"art\": 25}\n",
        "print(marks[\"art\"])"
      ],
      "execution_count": 0,
      "outputs": []
    },
    {
      "cell_type": "code",
      "metadata": {
        "id": "U4QpYaEajX-5",
        "colab_type": "code",
        "colab": {}
      },
      "source": [
        "marks[\"chemistry\"] = 75"
      ],
      "execution_count": 0,
      "outputs": []
    },
    {
      "cell_type": "code",
      "metadata": {
        "id": "9Fv4xOh5jZaa",
        "colab_type": "code",
        "colab": {}
      },
      "source": [
        "print(marks.keys())"
      ],
      "execution_count": 0,
      "outputs": []
    },
    {
      "cell_type": "code",
      "metadata": {
        "id": "Na0AazoOjanZ",
        "colab_type": "code",
        "colab": {}
      },
      "source": [
        "dict = { \"fish\": 12, \"cat\": 7}\n",
        "'dog' in dict"
      ],
      "execution_count": 0,
      "outputs": []
    },
    {
      "cell_type": "code",
      "metadata": {
        "id": "1_fTtk35jmMA",
        "colab_type": "code",
        "colab": {}
      },
      "source": [
        "dict.keys()"
      ],
      "execution_count": 0,
      "outputs": []
    },
    {
      "cell_type": "code",
      "metadata": {
        "id": "qexlAgcqjiX3",
        "colab_type": "code",
        "colab": {}
      },
      "source": [
        "dict.values()"
      ],
      "execution_count": 0,
      "outputs": []
    },
    {
      "cell_type": "code",
      "metadata": {
        "id": "kb7TSQ_Xjnlv",
        "colab_type": "code",
        "colab": {}
      },
      "source": [
        "dict.items()"
      ],
      "execution_count": 0,
      "outputs": []
    },
    {
      "cell_type": "code",
      "metadata": {
        "id": "K837kgunjovX",
        "colab_type": "code",
        "colab": {}
      },
      "source": [
        "dict[\"fish\"] = 14\n",
        "dict.items()"
      ],
      "execution_count": 0,
      "outputs": []
    },
    {
      "cell_type": "markdown",
      "metadata": {
        "id": "JLsPl9MSjzc-",
        "colab_type": "text"
      },
      "source": [
        "### Variables"
      ]
    },
    {
      "cell_type": "code",
      "metadata": {
        "id": "bzisbt3Jj0dk",
        "colab_type": "code",
        "colab": {}
      },
      "source": [
        "X = ['a', 'b', 'c']\n",
        "Y = X\n",
        "Y.append('d')\n",
        "print(X)"
      ],
      "execution_count": 0,
      "outputs": []
    },
    {
      "cell_type": "markdown",
      "metadata": {
        "id": "QcGngIrMj85c",
        "colab_type": "text"
      },
      "source": [
        "## User Input"
      ]
    },
    {
      "cell_type": "code",
      "metadata": {
        "id": "wmI0ZcZ2j-Ic",
        "colab_type": "code",
        "colab": {}
      },
      "source": [
        "x = input()\n",
        "x"
      ],
      "execution_count": 0,
      "outputs": []
    },
    {
      "cell_type": "code",
      "metadata": {
        "id": "MP7atIqwkB3k",
        "colab_type": "code",
        "colab": {}
      },
      "source": [
        "x = input('Enter the number: ')\n",
        "x"
      ],
      "execution_count": 0,
      "outputs": []
    },
    {
      "cell_type": "markdown",
      "metadata": {
        "id": "RtJ44zr1kH-S",
        "colab_type": "text"
      },
      "source": [
        "Evaluate User Input"
      ]
    },
    {
      "cell_type": "code",
      "metadata": {
        "id": "qpt3qq9pkJvi",
        "colab_type": "code",
        "colab": {}
      },
      "source": [
        "x = input()"
      ],
      "execution_count": 0,
      "outputs": []
    },
    {
      "cell_type": "code",
      "metadata": {
        "id": "33SOiTMvkNpi",
        "colab_type": "code",
        "colab": {}
      },
      "source": [
        "x"
      ],
      "execution_count": 0,
      "outputs": []
    },
    {
      "cell_type": "code",
      "metadata": {
        "id": "xFxC06rzkO5x",
        "colab_type": "code",
        "colab": {}
      },
      "source": [
        "eval(x)"
      ],
      "execution_count": 0,
      "outputs": []
    },
    {
      "cell_type": "markdown",
      "metadata": {
        "id": "q5Q_HhkukUKg",
        "colab_type": "text"
      },
      "source": [
        "## Files\n",
        "\n",
        "### Reading"
      ]
    },
    {
      "cell_type": "code",
      "metadata": {
        "id": "wpm8JUxsFavc",
        "colab_type": "code",
        "colab": {}
      },
      "source": [
        "from google.colab import drive\n",
        "drive.mount('/content/drive')"
      ],
      "execution_count": 0,
      "outputs": []
    },
    {
      "cell_type": "markdown",
      "metadata": {
        "id": "WrjKbkecGq9s",
        "colab_type": "text"
      },
      "source": [
        "*Read one line from file in Google Drive.  You may need to copy this file to your own Google Drive. You can access this file at available at https://drive.google.com/open?id=1e53Xu-OG0ypThMx1B8j5k_mVCzoXahI5*"
      ]
    },
    {
      "cell_type": "code",
      "metadata": {
        "id": "egV54Xl3Ft55",
        "colab_type": "code",
        "colab": {}
      },
      "source": [
        "f = open(\"/content/drive/My Drive/test.txt\", \"r\")\n",
        "line = f.readline()\n",
        "print (line)\n",
        "f.close()"
      ],
      "execution_count": 0,
      "outputs": []
    },
    {
      "cell_type": "markdown",
      "metadata": {
        "id": "_6xa4Iy4GuzI",
        "colab_type": "text"
      },
      "source": [
        "*read all lines in from file in Google Drive*"
      ]
    },
    {
      "cell_type": "code",
      "metadata": {
        "id": "Pn-RStabGxSA",
        "colab_type": "code",
        "colab": {}
      },
      "source": [
        "f = open(\"/content/drive/My Drive/test.txt\", \"r\")\n",
        "lines = f.readlines()\n",
        "for line in lines:\n",
        "  print (line)\n",
        "f.close()"
      ],
      "execution_count": 0,
      "outputs": []
    },
    {
      "cell_type": "markdown",
      "metadata": {
        "id": "rzFM2yLBqSnd",
        "colab_type": "text"
      },
      "source": [
        "*Another way of doing this*"
      ]
    },
    {
      "cell_type": "code",
      "metadata": {
        "id": "5Qu3x8mDqyeX",
        "colab_type": "code",
        "colab": {}
      },
      "source": [
        "f = open(\"/content/drive/My Drive/test.txt\", \"r\")\n",
        "for line in f:\n",
        "  print(line)"
      ],
      "execution_count": 0,
      "outputs": []
    },
    {
      "cell_type": "code",
      "metadata": {
        "id": "yuDZnasuGiBq",
        "colab_type": "code",
        "colab": {}
      },
      "source": [
        "drive.flush_and_unmount()"
      ],
      "execution_count": 0,
      "outputs": []
    },
    {
      "cell_type": "markdown",
      "metadata": {
        "id": "AC7SeBMBk4yC",
        "colab_type": "text"
      },
      "source": [
        "## Control Flow"
      ]
    },
    {
      "cell_type": "markdown",
      "metadata": {
        "id": "QgYUI4Iurhxv",
        "colab_type": "text"
      },
      "source": [
        "### Conditional"
      ]
    },
    {
      "cell_type": "code",
      "metadata": {
        "id": "6z7aezvflF_H",
        "colab_type": "code",
        "colab": {}
      },
      "source": [
        "score = input ('Enter the score: ')"
      ],
      "execution_count": 0,
      "outputs": []
    },
    {
      "cell_type": "markdown",
      "metadata": {
        "id": "k_tf6VGElb1l",
        "colab_type": "text"
      },
      "source": [
        "*Need to convert user input `score` to integer before entering conditional*"
      ]
    },
    {
      "cell_type": "code",
      "metadata": {
        "id": "tVHast0jlX5E",
        "colab_type": "code",
        "colab": {}
      },
      "source": [
        "score = int(score)"
      ],
      "execution_count": 0,
      "outputs": []
    },
    {
      "cell_type": "code",
      "metadata": {
        "id": "g_ZK5FNxk8CZ",
        "colab_type": "code",
        "colab": {}
      },
      "source": [
        "if score == 100:\n",
        "      print(\"You scored a hundred!\")\n",
        "elif score > 80:\n",
        "      print(\"You are an awesome student!\")\n",
        "else:\n",
        "      print(\"Go and study!\")"
      ],
      "execution_count": 0,
      "outputs": []
    },
    {
      "cell_type": "markdown",
      "metadata": {
        "id": "4R1sV23hrmMG",
        "colab_type": "text"
      },
      "source": [
        "### While"
      ]
    },
    {
      "cell_type": "code",
      "metadata": {
        "id": "TWs8eFvYro3g",
        "colab_type": "code",
        "colab": {}
      },
      "source": [
        "i = 0\n",
        "while i < 10:\n",
        "    print(i)\n",
        "    i = i + 1"
      ],
      "execution_count": 0,
      "outputs": []
    },
    {
      "cell_type": "markdown",
      "metadata": {
        "id": "PjxceQ2grwnB",
        "colab_type": "text"
      },
      "source": [
        "### For"
      ]
    },
    {
      "cell_type": "code",
      "metadata": {
        "id": "Tc0VlzqcryRH",
        "colab_type": "code",
        "colab": {}
      },
      "source": [
        "for i in range(10):\n",
        "\t print(i)"
      ],
      "execution_count": 0,
      "outputs": []
    },
    {
      "cell_type": "markdown",
      "metadata": {
        "id": "HywCYgHThUiy",
        "colab_type": "text"
      },
      "source": [
        "*Here are a few more examples about `range()`, using start, stop, step arguments*"
      ]
    },
    {
      "cell_type": "code",
      "metadata": {
        "id": "zbilbrtVhZMW",
        "colab_type": "code",
        "colab": {}
      },
      "source": [
        "for i in range (1, 6):\n",
        "  print (i)"
      ],
      "execution_count": 0,
      "outputs": []
    },
    {
      "cell_type": "code",
      "metadata": {
        "id": "pWEoj7tYkZMW",
        "colab_type": "code",
        "colab": {}
      },
      "source": [
        "for i in range (1, 6, 2):\n",
        "  print(i)"
      ],
      "execution_count": 0,
      "outputs": []
    },
    {
      "cell_type": "code",
      "metadata": {
        "id": "USTtXjlAr3R2",
        "colab_type": "code",
        "colab": {}
      },
      "source": [
        "myList = ['hany', 'john', 'smith', 'aly', 'max']\n",
        "for name in myList:\n",
        "  print(name)"
      ],
      "execution_count": 0,
      "outputs": []
    },
    {
      "cell_type": "markdown",
      "metadata": {
        "id": "nqqYzlF-r_tk",
        "colab_type": "text"
      },
      "source": [
        "### Blocks"
      ]
    },
    {
      "cell_type": "code",
      "metadata": {
        "id": "ISdcNb8IsA40",
        "colab_type": "code",
        "colab": {}
      },
      "source": [
        "for i in range(3):\n",
        "    print(\"Iteration {}\".format(i))\n",
        "    print(\"Done!\")"
      ],
      "execution_count": 0,
      "outputs": []
    },
    {
      "cell_type": "markdown",
      "metadata": {
        "id": "_goQynvysFvb",
        "colab_type": "text"
      },
      "source": [
        "*Only change is in indentation...*"
      ]
    },
    {
      "cell_type": "code",
      "metadata": {
        "id": "MLsCSveasDWs",
        "colab_type": "code",
        "colab": {}
      },
      "source": [
        "for i in range(3):\n",
        "    print(\"Iteration {}\".format(i))\n",
        "print(\"Done!\")\n"
      ],
      "execution_count": 0,
      "outputs": []
    },
    {
      "cell_type": "markdown",
      "metadata": {
        "id": "P0vF17BKscOo",
        "colab_type": "text"
      },
      "source": [
        "### Block Operators"
      ]
    },
    {
      "cell_type": "markdown",
      "metadata": {
        "id": "fPH6Qac2shkn",
        "colab_type": "text"
      },
      "source": [
        "*`pass` - means to do nothing*"
      ]
    },
    {
      "cell_type": "code",
      "metadata": {
        "id": "ggm4HIaZsfXH",
        "colab_type": "code",
        "colab": {}
      },
      "source": [
        "x = 85\n",
        "if x > 80:\n",
        "\tpass\n",
        "else:\n",
        "\tprint(\"You are less than 80!\")"
      ],
      "execution_count": 0,
      "outputs": []
    },
    {
      "cell_type": "markdown",
      "metadata": {
        "id": "7ao0PiOUsxqn",
        "colab_type": "text"
      },
      "source": [
        "*`break` - same as in C++, quit the loop*"
      ]
    },
    {
      "cell_type": "code",
      "metadata": {
        "id": "IEkwdr8Xs0_6",
        "colab_type": "code",
        "colab": {}
      },
      "source": [
        "for name in myList:\n",
        "\tif name == \"aly\":\n",
        "\t\tbreak\n",
        "\telse:\n",
        "\t\tprint(name)"
      ],
      "execution_count": 0,
      "outputs": []
    },
    {
      "cell_type": "markdown",
      "metadata": {
        "id": "ecvoSC1Js5VM",
        "colab_type": "text"
      },
      "source": [
        "*`continue` - same as in C++, continue to the next iteration*"
      ]
    },
    {
      "cell_type": "code",
      "metadata": {
        "id": "0Mrs190-s9Ki",
        "colab_type": "code",
        "colab": {}
      },
      "source": [
        "for name in myList:\n",
        "\tif name == \"aly\":\n",
        "\t\tcontinue\n",
        "\telse:\n",
        "\t\tprint(name)"
      ],
      "execution_count": 0,
      "outputs": []
    },
    {
      "cell_type": "markdown",
      "metadata": {
        "id": "jiF5omPgtEYZ",
        "colab_type": "text"
      },
      "source": [
        "## Functions"
      ]
    },
    {
      "cell_type": "markdown",
      "metadata": {
        "id": "0AXF8pARtJrg",
        "colab_type": "text"
      },
      "source": [
        "*How can we find the largest number in a list?*\n",
        "\n",
        "**Option 1:** hard-code the logic"
      ]
    },
    {
      "cell_type": "code",
      "metadata": {
        "id": "tuI20k_ytOhH",
        "colab_type": "code",
        "colab": {}
      },
      "source": [
        "mylist = [2,5,3,7,1,8,12,4]\n",
        "maxnum = 0\n",
        "for num in mylist:\n",
        "\tif (num>maxnum):\n",
        "\t\tmaxnum = num\n",
        "print(\"The largest number is {}\".format(maxnum))"
      ],
      "execution_count": 0,
      "outputs": []
    },
    {
      "cell_type": "markdown",
      "metadata": {
        "id": "QC1FO49QtbCY",
        "colab_type": "text"
      },
      "source": [
        "**Option 2:** write and use a function"
      ]
    },
    {
      "cell_type": "code",
      "metadata": {
        "id": "sVO9PkF1tnFb",
        "colab_type": "code",
        "colab": {}
      },
      "source": [
        "def getMaxNumber(list_x):\n",
        "  maxnum = 0\n",
        "  for num in list_x: \n",
        "    if (num > maxnum):\n",
        "      maxnum = num\n",
        "  return maxnum"
      ],
      "execution_count": 0,
      "outputs": []
    },
    {
      "cell_type": "code",
      "metadata": {
        "id": "DzeKzLO9tgyr",
        "colab_type": "code",
        "colab": {}
      },
      "source": [
        "maxnum = getMaxNumber(mylist)\n",
        "print(\"The largest number is {}\".format(maxnum))"
      ],
      "execution_count": 0,
      "outputs": []
    },
    {
      "cell_type": "markdown",
      "metadata": {
        "id": "4BV0fB1OwsCa",
        "colab_type": "text"
      },
      "source": [
        "*Let's add code to run some test cases on the function. `doctest` allows us to provide example function calls and expected output.*"
      ]
    },
    {
      "cell_type": "code",
      "metadata": {
        "id": "MW0qrgE2trGz",
        "colab_type": "code",
        "colab": {}
      },
      "source": [
        "def getMaxNumber(list_x):\n",
        "  \"\"\"\n",
        "  Returns the maximum number from the supplied list\n",
        "  >>> getMaxNumber([4, 7, 2, 5])\n",
        "  7\n",
        "  >>> getMaxNumber([-3, 9, 2])\n",
        "  9\n",
        "  >>> getMaxNumber([-3, -7, -1])\n",
        "  -1\n",
        "  \"\"\"\n",
        "  maxnum = 0\n",
        "  for num in list_x:\n",
        "    if (num>maxnum):\n",
        "      maxnum = num\n",
        "  return maxnum\n",
        "\n",
        "if __name__ == '__main__':\n",
        "  import doctest\n",
        "  doctest.testmod()"
      ],
      "execution_count": 0,
      "outputs": []
    },
    {
      "cell_type": "markdown",
      "metadata": {
        "id": "UBa4MFEFyX1P",
        "colab_type": "text"
      },
      "source": [
        "*What went wrong? `maxnum = 0`*"
      ]
    },
    {
      "cell_type": "code",
      "metadata": {
        "id": "-ZjiPoV4ybIf",
        "colab_type": "code",
        "colab": {}
      },
      "source": [
        "def getMaxNumber2(list_x):\n",
        "  maxnum = list_x[0]\n",
        "  for num in list_x:\n",
        "    if (num>maxnum):\n",
        "      maxnum = num\n",
        "  return maxnum"
      ],
      "execution_count": 0,
      "outputs": []
    },
    {
      "cell_type": "code",
      "metadata": {
        "id": "oyY_vi1NzsQc",
        "colab_type": "code",
        "colab": {}
      },
      "source": [
        "getMaxNumber2([-3, -7, -1])"
      ],
      "execution_count": 0,
      "outputs": []
    },
    {
      "cell_type": "markdown",
      "metadata": {
        "id": "dMsMDDtMxRPG",
        "colab_type": "text"
      },
      "source": [
        "*There's actually already a built-in function for this...*"
      ]
    },
    {
      "cell_type": "code",
      "metadata": {
        "id": "XTGfkvUxxU2a",
        "colab_type": "code",
        "colab": {}
      },
      "source": [
        "max([-3, -7, -1])"
      ],
      "execution_count": 0,
      "outputs": []
    },
    {
      "cell_type": "markdown",
      "metadata": {
        "id": "lPeC56220JxD",
        "colab_type": "text"
      },
      "source": [
        "*Functions can also return multiple values*"
      ]
    },
    {
      "cell_type": "code",
      "metadata": {
        "id": "lzbVAxbL0MpL",
        "colab_type": "code",
        "colab": {}
      },
      "source": [
        "def getMaxNumberAndIndex(list_x):\n",
        "  maxnum = list_x[0]\n",
        "  index = -1\n",
        "  i = 0\n",
        "  for num in list_x:\n",
        "\t  if (num>maxnum):\n",
        "\t  \tmaxnum = num\n",
        "\t  \tindex = i\n",
        "\t  i = i + 1\n",
        "  return maxnum, index"
      ],
      "execution_count": 0,
      "outputs": []
    },
    {
      "cell_type": "code",
      "metadata": {
        "id": "T6kVOVrW0X6o",
        "colab_type": "code",
        "colab": {}
      },
      "source": [
        "mylist = [2,5,3,7,1,8,12,4]\n",
        "maxnum, idx = getMaxNumberAndIndex(mylist)\n",
        "print(\"The largest number is {} and its index is {}\" . format(maxnum, idx))"
      ],
      "execution_count": 0,
      "outputs": []
    },
    {
      "cell_type": "markdown",
      "metadata": {
        "id": "om9sGyskSEnB",
        "colab_type": "text"
      },
      "source": [
        "## Using Libraries"
      ]
    },
    {
      "cell_type": "code",
      "metadata": {
        "id": "Qx-DbyhbSJNh",
        "colab_type": "code",
        "colab": {}
      },
      "source": [
        "import math\n",
        "print (math.sqrt(9.0))"
      ],
      "execution_count": 0,
      "outputs": []
    },
    {
      "cell_type": "code",
      "metadata": {
        "id": "iQVfCC5ZSTW-",
        "colab_type": "code",
        "colab": {}
      },
      "source": [
        "from math import sqrt\n",
        "print (sqrt(25.0))\n"
      ],
      "execution_count": 0,
      "outputs": []
    },
    {
      "cell_type": "markdown",
      "metadata": {
        "id": "kU-9iRvbXghj",
        "colab_type": "text"
      },
      "source": [
        "## Error Handling"
      ]
    },
    {
      "cell_type": "code",
      "metadata": {
        "id": "1mH4qa17XiDt",
        "colab_type": "code",
        "colab": {}
      },
      "source": [
        "sum_grades = 300\n",
        "num_students = input()"
      ],
      "execution_count": 0,
      "outputs": []
    },
    {
      "cell_type": "code",
      "metadata": {
        "id": "1g7PU5EnXmIy",
        "colab_type": "code",
        "colab": {}
      },
      "source": [
        "average = sum_grades / int(num_students)\n"
      ],
      "execution_count": 0,
      "outputs": []
    },
    {
      "cell_type": "code",
      "metadata": {
        "id": "ZzasrD_ZYQ_z",
        "colab_type": "code",
        "colab": {}
      },
      "source": [
        "try:\n",
        "\taverage = sum_grades / int(num_students)\n",
        "except:\n",
        "\t# This catches if something wrong happens\n",
        "\tprint(\"Something wrong happened, please check it!\")\n",
        "\taverage = 0"
      ],
      "execution_count": 0,
      "outputs": []
    },
    {
      "cell_type": "code",
      "metadata": {
        "id": "LE6EhwmwYdMS",
        "colab_type": "code",
        "colab": {}
      },
      "source": [
        "try:\n",
        "\taverage = sum_grades / int(num_students)\n",
        "except ZeroDivisionError:\n",
        "\t# This catches if something wrong happens\n",
        "\tprint(\"Something wrong happened, please check it!\")\n",
        "\taverage = 0"
      ],
      "execution_count": 0,
      "outputs": []
    },
    {
      "cell_type": "code",
      "metadata": {
        "id": "BSX6lKJ0YhMn",
        "colab_type": "code",
        "colab": {}
      },
      "source": [
        "try:\n",
        "  number_of_students = input()\n",
        "  average = sum_grades / int(num_students)\n",
        "except ZeroDivisionError:\n",
        "\t# This catches if a number was divided by zero\n",
        "\tprint(\"You Evil User!.....you inserted a zero!\")\n",
        "\taverage = 0\n",
        "except IOError:\n",
        "\t# This catches errors happening in the input process\n",
        "\tprint(\"Something went wrong with how you enter words\")\n",
        "\taverage = 0"
      ],
      "execution_count": 0,
      "outputs": []
    },
    {
      "cell_type": "markdown",
      "metadata": {
        "id": "k0YS3UsJYvwN",
        "colab_type": "text"
      },
      "source": [
        "## Generators"
      ]
    },
    {
      "cell_type": "code",
      "metadata": {
        "id": "Czw97n71YxPM",
        "colab_type": "code",
        "colab": {}
      },
      "source": [
        "def fib():\n",
        " a = b = 1\n",
        " while True:\n",
        "    yield a\n",
        "    a, b = b, a + b"
      ],
      "execution_count": 0,
      "outputs": []
    },
    {
      "cell_type": "code",
      "metadata": {
        "id": "fl9gtEB_Y4aM",
        "colab_type": "code",
        "colab": {}
      },
      "source": [
        "f = fib()\n",
        "print (next(f))\n",
        "print(next(f))\n",
        "print (next(f))\n",
        "print (next(f))\n",
        "print (next(f))"
      ],
      "execution_count": 0,
      "outputs": []
    },
    {
      "cell_type": "markdown",
      "metadata": {
        "id": "4eglJSYHZcBE",
        "colab_type": "text"
      },
      "source": [
        "## Regular Expressions"
      ]
    },
    {
      "cell_type": "code",
      "metadata": {
        "id": "WXN1GKkYZdTF",
        "colab_type": "code",
        "colab": {}
      },
      "source": [
        "import re\n",
        "request = \"HEAD /foo HTTP/1.1\"\n",
        "pattern = re.compile(r\"^([A-Z]+)\\s+(\\S+)\\s+([A-Z0-9\\/\\.]+)$\")\n",
        "m = pattern.match(request)\n",
        "m.groups()"
      ],
      "execution_count": 0,
      "outputs": []
    },
    {
      "cell_type": "code",
      "metadata": {
        "id": "2ErVxj0m8RbH",
        "colab_type": "code",
        "colab": {}
      },
      "source": [
        "response = \"HTTP/1.1 200 OK\"\n",
        "pattern = re.compile(r\"^\\S+\\s+([0-9]+)\\s+\\S+$\")\n",
        "m = pattern.match(response)\n",
        "m.groups()"
      ],
      "execution_count": 0,
      "outputs": []
    },
    {
      "cell_type": "markdown",
      "metadata": {
        "id": "KXPeS8vm4Xs9",
        "colab_type": "text"
      },
      "source": [
        "## requests Library"
      ]
    },
    {
      "cell_type": "markdown",
      "metadata": {
        "id": "Ar26PymlBK-I",
        "colab_type": "text"
      },
      "source": [
        "### Accessing response headers"
      ]
    },
    {
      "cell_type": "code",
      "metadata": {
        "id": "ZW-YwJpd4bZd",
        "colab_type": "code",
        "colab": {}
      },
      "source": [
        "import requests\n",
        "response = requests.get('http://example.com')\n",
        "print (\"Status Code: {}\".format(response.status_code))\n",
        "print (response.headers)\n",
        "print ()\n",
        "print (\"URL: {}\".format(response.url))\n",
        "print (\"Date: {}\".format(response.headers['Date']))\n",
        "print (\"Server: {}\".format(response.headers['Server']))"
      ],
      "execution_count": 0,
      "outputs": []
    },
    {
      "cell_type": "markdown",
      "metadata": {
        "id": "qPxXZz1GBOye",
        "colab_type": "text"
      },
      "source": [
        "### Using request query parameters"
      ]
    },
    {
      "cell_type": "code",
      "metadata": {
        "id": "dmAc9lVBBbVH",
        "colab_type": "code",
        "colab": {}
      },
      "source": [
        "import requests\n",
        "response = requests.get('http://google.com/search', params={'q': 'lsu'})\n",
        "print (\"Status Code: {}\".format(response.status_code))\n",
        "print()\n",
        "\n",
        "# use loop to only print 5 lines of the response\n",
        "i=0\n",
        "for line in response.text.splitlines():\n",
        "  i = i+1\n",
        "  if (i == 5): \n",
        "      break\n",
        "  print (line)\n"
      ],
      "execution_count": 0,
      "outputs": []
    },
    {
      "cell_type": "markdown",
      "metadata": {
        "id": "8_wG_TQLDYA5",
        "colab_type": "text"
      },
      "source": [
        "## Beautiful Soup Library"
      ]
    },
    {
      "cell_type": "markdown",
      "metadata": {
        "id": "ela1XItgECfO",
        "colab_type": "text"
      },
      "source": [
        "*Print all the links (`a href=`) in a webpage*"
      ]
    },
    {
      "cell_type": "code",
      "metadata": {
        "id": "VRb3IvzJDZ0d",
        "colab_type": "code",
        "colab": {}
      },
      "source": [
        "from bs4 import BeautifulSoup\n",
        "import requests\n",
        "\n",
        "response = requests.get(\"http://www.reddit.com\")\n",
        "\n",
        "soup = BeautifulSoup(response.text)\n",
        "for links in soup.find_all('a'):\n",
        "  print(links.get('href'))"
      ],
      "execution_count": 0,
      "outputs": []
    }
  ]
}