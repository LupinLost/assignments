{
  "nbformat": 4,
  "nbformat_minor": 0,
  "metadata": {
    "colab": {
      "name": "Week-02-Python - in-class.ipynb",
      "provenance": [],
      "collapsed_sections": [],
      "toc_visible": true,
      "authorship_tag": "ABX9TyPnfxP1qajkVCmO8+TxVhbK",
      "include_colab_link": true
    },
    "kernelspec": {
      "name": "python3",
      "display_name": "Python 3"
    }
  },
  "cells": [
    {
      "cell_type": "markdown",
      "metadata": {
        "id": "view-in-github",
        "colab_type": "text"
      },
      "source": [
        "<a href=\"https://colab.research.google.com/github/cs432-websci-spr20/assignments/blob/master/Week_02_Python_in_class.ipynb\" target=\"_parent\"><img src=\"https://colab.research.google.com/assets/colab-badge.svg\" alt=\"Open In Colab\"/></a>"
      ]
    },
    {
      "cell_type": "markdown",
      "metadata": {
        "id": "tV4fe0DCfd1a",
        "colab_type": "text"
      },
      "source": [
        "# CS 432/532 - Week 02 - Python\n",
        "\n",
        "This notebook goes along with the [Week-02 Python slides](https://docs.google.com/presentation/d/1QvcImKQdCGBC9vcwSVg5C4cSmlxire90WBxrNmzmci8/edit?usp=sharing) from [CS 432/532 Spring 2020](https://www.cs.odu.edu/~mweigle/CS432-S20/Home)\n",
        "\n",
        "Google Colab tutorials and references:\n",
        "* [Overview of Colaboratory Features](https://colab.research.google.com/notebooks/basic_features_overview.ipynb)\n",
        "* [Welcome to Colaboratory](https://colab.research.google.com/notebooks/welcome.ipynb)\n",
        "* [Loading Data](https://colab.research.google.com/notebooks/io.ipynb)\n",
        "* [Colab and GitHub](https://colab.research.google.com/github/googlecolab/colabtools/blob/master/notebooks/colab-github-demo.ipynb)"
      ]
    },
    {
      "cell_type": "markdown",
      "metadata": {
        "id": "uNLQepV3f9_8",
        "colab_type": "text"
      },
      "source": [
        "## Interactive Python Shell"
      ]
    },
    {
      "cell_type": "markdown",
      "metadata": {
        "id": "nHvxncu0ggRX",
        "colab_type": "text"
      },
      "source": [
        "*Print Python version used in the notebook*"
      ]
    },
    {
      "cell_type": "code",
      "metadata": {
        "id": "P8w3OpwFgAm7",
        "colab_type": "code",
        "outputId": "80dae6b4-549f-4ee7-f52f-4bdb0d5fa3c7",
        "colab": {
          "base_uri": "https://localhost:8080/",
          "height": 34
        }
      },
      "source": [
        "import platform; print(platform.python_version())"
      ],
      "execution_count": 0,
      "outputs": [
        {
          "output_type": "stream",
          "text": [
            "3.6.9\n"
          ],
          "name": "stdout"
        }
      ]
    },
    {
      "cell_type": "code",
      "metadata": {
        "id": "eUnHDzUkgpHt",
        "colab_type": "code",
        "outputId": "70df1972-0ab6-40d2-a516-965e23e4106b",
        "colab": {
          "base_uri": "https://localhost:8080/",
          "height": 224
        }
      },
      "source": [
        "help(print)"
      ],
      "execution_count": 0,
      "outputs": [
        {
          "output_type": "stream",
          "text": [
            "Help on built-in function print in module builtins:\n",
            "\n",
            "print(...)\n",
            "    print(value, ..., sep=' ', end='\\n', file=sys.stdout, flush=False)\n",
            "    \n",
            "    Prints the values to a stream, or to sys.stdout by default.\n",
            "    Optional keyword arguments:\n",
            "    file:  a file-like object (stream); defaults to the current sys.stdout.\n",
            "    sep:   string inserted between values, default a space.\n",
            "    end:   string appended after the last value, default a newline.\n",
            "    flush: whether to forcibly flush the stream.\n",
            "\n"
          ],
          "name": "stdout"
        }
      ]
    },
    {
      "cell_type": "code",
      "metadata": {
        "id": "zzeTWQzogrKw",
        "colab_type": "code",
        "outputId": "9d269e4f-e124-4e40-b422-98466ed3b0f2",
        "colab": {
          "base_uri": "https://localhost:8080/",
          "height": 34
        }
      },
      "source": [
        "print(\"Hello World!\")"
      ],
      "execution_count": 0,
      "outputs": [
        {
          "output_type": "stream",
          "text": [
            "Hello World!\n"
          ],
          "name": "stdout"
        }
      ]
    },
    {
      "cell_type": "code",
      "metadata": {
        "id": "x3fS5jHrgsvF",
        "colab_type": "code",
        "outputId": "52b75326-a807-4b8f-9d43-f4471fd964b1",
        "colab": {
          "base_uri": "https://localhost:8080/",
          "height": 34
        }
      },
      "source": [
        "2 + 3 * 4 / 5"
      ],
      "execution_count": 0,
      "outputs": [
        {
          "output_type": "execute_result",
          "data": {
            "text/plain": [
              "4.4"
            ]
          },
          "metadata": {
            "tags": []
          },
          "execution_count": 4
        }
      ]
    },
    {
      "cell_type": "markdown",
      "metadata": {
        "id": "IoMgafEvjOAS",
        "colab_type": "text"
      },
      "source": [
        "## Data Types"
      ]
    },
    {
      "cell_type": "markdown",
      "metadata": {
        "id": "M7wUX9B8hDiB",
        "colab_type": "text"
      },
      "source": [
        "### String vs. Bytes"
      ]
    },
    {
      "cell_type": "code",
      "metadata": {
        "id": "NhADk6DBhG2K",
        "colab_type": "code",
        "outputId": "5f9b8e10-7a27-46bd-f6d3-4650a22a5197",
        "colab": {
          "base_uri": "https://localhost:8080/",
          "height": 34
        }
      },
      "source": [
        "type(\"Hello\")"
      ],
      "execution_count": 0,
      "outputs": [
        {
          "output_type": "execute_result",
          "data": {
            "text/plain": [
              "str"
            ]
          },
          "metadata": {
            "tags": []
          },
          "execution_count": 5
        }
      ]
    },
    {
      "cell_type": "code",
      "metadata": {
        "id": "i9MyF1yihHow",
        "colab_type": "code",
        "outputId": "5da772d2-0f3f-49b6-8270-815270afb510",
        "colab": {
          "base_uri": "https://localhost:8080/",
          "height": 34
        }
      },
      "source": [
        "type(b\"Hello\")"
      ],
      "execution_count": 0,
      "outputs": [
        {
          "output_type": "execute_result",
          "data": {
            "text/plain": [
              "bytes"
            ]
          },
          "metadata": {
            "tags": []
          },
          "execution_count": 6
        }
      ]
    },
    {
      "cell_type": "code",
      "metadata": {
        "id": "ZL9huvCGhJKo",
        "colab_type": "code",
        "outputId": "39bcca77-f829-4af3-e9d8-2d8dae391962",
        "colab": {
          "base_uri": "https://localhost:8080/",
          "height": 34
        }
      },
      "source": [
        "b\"Hello\".decode()"
      ],
      "execution_count": 0,
      "outputs": [
        {
          "output_type": "execute_result",
          "data": {
            "text/plain": [
              "'Hello'"
            ]
          },
          "metadata": {
            "tags": []
          },
          "execution_count": 7
        }
      ]
    },
    {
      "cell_type": "code",
      "metadata": {
        "id": "gcoqJCW8hKdA",
        "colab_type": "code",
        "outputId": "63cc77ec-d0fc-4613-ed7d-c388349a03d0",
        "colab": {
          "base_uri": "https://localhost:8080/",
          "height": 34
        }
      },
      "source": [
        "\"Hello\".encode()"
      ],
      "execution_count": 0,
      "outputs": [
        {
          "output_type": "execute_result",
          "data": {
            "text/plain": [
              "b'Hello'"
            ]
          },
          "metadata": {
            "tags": []
          },
          "execution_count": 8
        }
      ]
    },
    {
      "cell_type": "markdown",
      "metadata": {
        "id": "M1NtxPrUh8mv",
        "colab_type": "text"
      },
      "source": [
        "### List"
      ]
    },
    {
      "cell_type": "code",
      "metadata": {
        "id": "-XNaG2R5h95X",
        "colab_type": "code",
        "colab": {}
      },
      "source": [
        "mylist = [0, 'a', \"hello\", 1, 2, ['b', 'c', 'd']]"
      ],
      "execution_count": 0,
      "outputs": []
    },
    {
      "cell_type": "code",
      "metadata": {
        "id": "Vj3W47_XixpA",
        "colab_type": "code",
        "outputId": "f400c907-8f34-4634-ac37-c1d8f65498e8",
        "colab": {
          "base_uri": "https://localhost:8080/",
          "height": 34
        }
      },
      "source": [
        "mylist [1]"
      ],
      "execution_count": 0,
      "outputs": [
        {
          "output_type": "execute_result",
          "data": {
            "text/plain": [
              "'a'"
            ]
          },
          "metadata": {
            "tags": []
          },
          "execution_count": 10
        }
      ]
    },
    {
      "cell_type": "code",
      "metadata": {
        "id": "gp_sA2pFiyOW",
        "colab_type": "code",
        "outputId": "996b5fca-2118-482d-de02-ac2637154c63",
        "colab": {
          "base_uri": "https://localhost:8080/",
          "height": 34
        }
      },
      "source": [
        "mylist [5][1]"
      ],
      "execution_count": 0,
      "outputs": [
        {
          "output_type": "execute_result",
          "data": {
            "text/plain": [
              "'c'"
            ]
          },
          "metadata": {
            "tags": []
          },
          "execution_count": 11
        }
      ]
    },
    {
      "cell_type": "code",
      "metadata": {
        "id": "1HiqElADizYv",
        "colab_type": "code",
        "outputId": "9fc003c7-bb16-4fc0-8501-e3119c8caf8f",
        "colab": {
          "base_uri": "https://localhost:8080/",
          "height": 34
        }
      },
      "source": [
        "mylist[1:3]"
      ],
      "execution_count": 0,
      "outputs": [
        {
          "output_type": "execute_result",
          "data": {
            "text/plain": [
              "['a', 'hello']"
            ]
          },
          "metadata": {
            "tags": []
          },
          "execution_count": 12
        }
      ]
    },
    {
      "cell_type": "code",
      "metadata": {
        "id": "gPW8jbx5i0jI",
        "colab_type": "code",
        "outputId": "546c0c8d-2919-4748-979c-587144b1167b",
        "colab": {
          "base_uri": "https://localhost:8080/",
          "height": 34
        }
      },
      "source": [
        "mylist[:2]"
      ],
      "execution_count": 0,
      "outputs": [
        {
          "output_type": "execute_result",
          "data": {
            "text/plain": [
              "[0, 'a']"
            ]
          },
          "metadata": {
            "tags": []
          },
          "execution_count": 13
        }
      ]
    },
    {
      "cell_type": "code",
      "metadata": {
        "id": "ZmwsmgNxi16m",
        "colab_type": "code",
        "outputId": "21879ea5-14ef-45a8-dcff-66cb1f287442",
        "colab": {
          "base_uri": "https://localhost:8080/",
          "height": 34
        }
      },
      "source": [
        "mylist[3:]"
      ],
      "execution_count": 0,
      "outputs": [
        {
          "output_type": "execute_result",
          "data": {
            "text/plain": [
              "[1, 2, ['b', 'c', 'd']]"
            ]
          },
          "metadata": {
            "tags": []
          },
          "execution_count": 14
        }
      ]
    },
    {
      "cell_type": "code",
      "metadata": {
        "id": "kT85-teZi5mF",
        "colab_type": "code",
        "outputId": "f68c0e57-8cf5-4f03-ee1d-937786c5c6db",
        "colab": {
          "base_uri": "https://localhost:8080/",
          "height": 34
        }
      },
      "source": [
        "mylist.remove('a')\n",
        "mylist"
      ],
      "execution_count": 0,
      "outputs": [
        {
          "output_type": "execute_result",
          "data": {
            "text/plain": [
              "[0, 'hello', 1, 2, ['b', 'c', 'd']]"
            ]
          },
          "metadata": {
            "tags": []
          },
          "execution_count": 15
        }
      ]
    },
    {
      "cell_type": "markdown",
      "metadata": {
        "id": "j8qhpJwrjDQU",
        "colab_type": "text"
      },
      "source": [
        "### Tuple"
      ]
    },
    {
      "cell_type": "code",
      "metadata": {
        "id": "6DCmir_NjEuE",
        "colab_type": "code",
        "outputId": "b4bad719-6ca6-45c7-9a14-15527d22e0cd",
        "colab": {
          "base_uri": "https://localhost:8080/",
          "height": 34
        }
      },
      "source": [
        "X = (0, 1, 2, 3, 4)\n",
        "print (X[4])"
      ],
      "execution_count": 0,
      "outputs": [
        {
          "output_type": "stream",
          "text": [
            "4\n"
          ],
          "name": "stdout"
        }
      ]
    },
    {
      "cell_type": "markdown",
      "metadata": {
        "id": "5eSzWzhHjKNr",
        "colab_type": "text"
      },
      "source": [
        "### Dictionary"
      ]
    },
    {
      "cell_type": "code",
      "metadata": {
        "id": "d87Z9hTzjVY6",
        "colab_type": "code",
        "outputId": "c6bc7493-50c9-49c6-b812-fc3af91821b8",
        "colab": {
          "base_uri": "https://localhost:8080/",
          "height": 34
        }
      },
      "source": [
        "marks = {\"science\": 90, \"art\": 25}\n",
        "print(marks[\"art\"])"
      ],
      "execution_count": 0,
      "outputs": [
        {
          "output_type": "stream",
          "text": [
            "25\n"
          ],
          "name": "stdout"
        }
      ]
    },
    {
      "cell_type": "code",
      "metadata": {
        "id": "U4QpYaEajX-5",
        "colab_type": "code",
        "colab": {}
      },
      "source": [
        "marks[\"chemistry\"] = 75"
      ],
      "execution_count": 0,
      "outputs": []
    },
    {
      "cell_type": "code",
      "metadata": {
        "id": "9Fv4xOh5jZaa",
        "colab_type": "code",
        "outputId": "f885dd4c-712d-42ae-9d64-6ca38288b1ab",
        "colab": {
          "base_uri": "https://localhost:8080/",
          "height": 34
        }
      },
      "source": [
        "print(marks.keys())"
      ],
      "execution_count": 0,
      "outputs": [
        {
          "output_type": "stream",
          "text": [
            "dict_keys(['science', 'art', 'chemistry'])\n"
          ],
          "name": "stdout"
        }
      ]
    },
    {
      "cell_type": "code",
      "metadata": {
        "id": "Na0AazoOjanZ",
        "colab_type": "code",
        "outputId": "557aae64-7947-465c-a44d-ae30cbe0ba86",
        "colab": {
          "base_uri": "https://localhost:8080/",
          "height": 34
        }
      },
      "source": [
        "dict = { \"fish\": 12, \"cat\": 7}\n",
        "'dog' in dict"
      ],
      "execution_count": 0,
      "outputs": [
        {
          "output_type": "execute_result",
          "data": {
            "text/plain": [
              "False"
            ]
          },
          "metadata": {
            "tags": []
          },
          "execution_count": 30
        }
      ]
    },
    {
      "cell_type": "code",
      "metadata": {
        "id": "1_fTtk35jmMA",
        "colab_type": "code",
        "outputId": "8fe09217-c34f-4441-fc4c-dc139a5ad43b",
        "colab": {
          "base_uri": "https://localhost:8080/",
          "height": 34
        }
      },
      "source": [
        "dict.keys()"
      ],
      "execution_count": 0,
      "outputs": [
        {
          "output_type": "execute_result",
          "data": {
            "text/plain": [
              "dict_keys(['fish', 'cat'])"
            ]
          },
          "metadata": {
            "tags": []
          },
          "execution_count": 24
        }
      ]
    },
    {
      "cell_type": "code",
      "metadata": {
        "id": "qexlAgcqjiX3",
        "colab_type": "code",
        "outputId": "2fa8b303-def5-4116-db42-9dfd6ed6b893",
        "colab": {
          "base_uri": "https://localhost:8080/",
          "height": 34
        }
      },
      "source": [
        "dict.values()"
      ],
      "execution_count": 0,
      "outputs": [
        {
          "output_type": "execute_result",
          "data": {
            "text/plain": [
              "dict_values([12, 7])"
            ]
          },
          "metadata": {
            "tags": []
          },
          "execution_count": 25
        }
      ]
    },
    {
      "cell_type": "code",
      "metadata": {
        "id": "kb7TSQ_Xjnlv",
        "colab_type": "code",
        "outputId": "f5fef85c-5c70-4e5b-9bec-0206dbcbbd7f",
        "colab": {
          "base_uri": "https://localhost:8080/",
          "height": 34
        }
      },
      "source": [
        "dict.items()"
      ],
      "execution_count": 0,
      "outputs": [
        {
          "output_type": "execute_result",
          "data": {
            "text/plain": [
              "dict_items([('fish', 12), ('cat', 7)])"
            ]
          },
          "metadata": {
            "tags": []
          },
          "execution_count": 26
        }
      ]
    },
    {
      "cell_type": "code",
      "metadata": {
        "id": "K837kgunjovX",
        "colab_type": "code",
        "outputId": "e17e8601-1935-4b57-cc1b-ada66dacb628",
        "colab": {
          "base_uri": "https://localhost:8080/",
          "height": 34
        }
      },
      "source": [
        "dict[\"dog\"] = 20\n",
        "dict.items()"
      ],
      "execution_count": 0,
      "outputs": [
        {
          "output_type": "execute_result",
          "data": {
            "text/plain": [
              "dict_items([('fish', 12), ('cat', 7), ('dog', 20)])"
            ]
          },
          "metadata": {
            "tags": []
          },
          "execution_count": 31
        }
      ]
    },
    {
      "cell_type": "code",
      "metadata": {
        "id": "7vagkf4V7A-5",
        "colab_type": "code",
        "outputId": "6b83196f-0fb9-4bb1-b55f-e32931b79299",
        "colab": {
          "base_uri": "https://localhost:8080/",
          "height": 34
        }
      },
      "source": [
        "'dog' in dict"
      ],
      "execution_count": 0,
      "outputs": [
        {
          "output_type": "execute_result",
          "data": {
            "text/plain": [
              "True"
            ]
          },
          "metadata": {
            "tags": []
          },
          "execution_count": 32
        }
      ]
    },
    {
      "cell_type": "markdown",
      "metadata": {
        "id": "JLsPl9MSjzc-",
        "colab_type": "text"
      },
      "source": [
        "### Variables"
      ]
    },
    {
      "cell_type": "code",
      "metadata": {
        "id": "bzisbt3Jj0dk",
        "colab_type": "code",
        "outputId": "6389bdea-2736-4652-dc63-c2a17ecf398f",
        "colab": {
          "base_uri": "https://localhost:8080/",
          "height": 34
        }
      },
      "source": [
        "X = ['a', 'b', 'c']\n",
        "Y = X\n",
        "Y.append('d')\n",
        "print(X)"
      ],
      "execution_count": 0,
      "outputs": [
        {
          "output_type": "stream",
          "text": [
            "['a', 'b', 'c', 'd']\n"
          ],
          "name": "stdout"
        }
      ]
    },
    {
      "cell_type": "markdown",
      "metadata": {
        "id": "QcGngIrMj85c",
        "colab_type": "text"
      },
      "source": [
        "## User Input"
      ]
    },
    {
      "cell_type": "code",
      "metadata": {
        "id": "wmI0ZcZ2j-Ic",
        "colab_type": "code",
        "outputId": "546ac6bb-71f1-46be-ca0e-5bcd64b36424",
        "colab": {
          "base_uri": "https://localhost:8080/",
          "height": 51
        }
      },
      "source": [
        "x = input()\n",
        "x"
      ],
      "execution_count": 0,
      "outputs": [
        {
          "output_type": "stream",
          "text": [
            "15\n"
          ],
          "name": "stdout"
        },
        {
          "output_type": "execute_result",
          "data": {
            "text/plain": [
              "'15'"
            ]
          },
          "metadata": {
            "tags": []
          },
          "execution_count": 34
        }
      ]
    },
    {
      "cell_type": "code",
      "metadata": {
        "id": "MP7atIqwkB3k",
        "colab_type": "code",
        "outputId": "1e45e82a-0518-4973-b208-bc5b8517793d",
        "colab": {
          "base_uri": "https://localhost:8080/",
          "height": 51
        }
      },
      "source": [
        "x = input('Enter the number: ')\n",
        "x"
      ],
      "execution_count": 0,
      "outputs": [
        {
          "output_type": "stream",
          "text": [
            "Enter the number: 20\n"
          ],
          "name": "stdout"
        },
        {
          "output_type": "execute_result",
          "data": {
            "text/plain": [
              "'20'"
            ]
          },
          "metadata": {
            "tags": []
          },
          "execution_count": 35
        }
      ]
    },
    {
      "cell_type": "markdown",
      "metadata": {
        "id": "RtJ44zr1kH-S",
        "colab_type": "text"
      },
      "source": [
        "Evaluate User Input"
      ]
    },
    {
      "cell_type": "code",
      "metadata": {
        "id": "qpt3qq9pkJvi",
        "colab_type": "code",
        "outputId": "0dc1ae66-b9c3-4ac9-db10-a64e264f5ed4",
        "colab": {
          "base_uri": "https://localhost:8080/",
          "height": 34
        }
      },
      "source": [
        "x = input()"
      ],
      "execution_count": 0,
      "outputs": [
        {
          "output_type": "stream",
          "text": [
            "15*20\n"
          ],
          "name": "stdout"
        }
      ]
    },
    {
      "cell_type": "code",
      "metadata": {
        "id": "33SOiTMvkNpi",
        "colab_type": "code",
        "outputId": "a4065cc1-e4fa-413d-fc8d-cec047ce3a31",
        "colab": {
          "base_uri": "https://localhost:8080/",
          "height": 34
        }
      },
      "source": [
        "x"
      ],
      "execution_count": 0,
      "outputs": [
        {
          "output_type": "execute_result",
          "data": {
            "text/plain": [
              "'15*20'"
            ]
          },
          "metadata": {
            "tags": []
          },
          "execution_count": 40
        }
      ]
    },
    {
      "cell_type": "code",
      "metadata": {
        "id": "xFxC06rzkO5x",
        "colab_type": "code",
        "outputId": "62a3fcca-fd04-484e-d514-cc2e45f7d11d",
        "colab": {
          "base_uri": "https://localhost:8080/",
          "height": 34
        }
      },
      "source": [
        "eval(x)"
      ],
      "execution_count": 0,
      "outputs": [
        {
          "output_type": "execute_result",
          "data": {
            "text/plain": [
              "300"
            ]
          },
          "metadata": {
            "tags": []
          },
          "execution_count": 41
        }
      ]
    },
    {
      "cell_type": "markdown",
      "metadata": {
        "id": "q5Q_HhkukUKg",
        "colab_type": "text"
      },
      "source": [
        "## Files\n",
        "\n",
        "### Reading"
      ]
    },
    {
      "cell_type": "code",
      "metadata": {
        "id": "wpm8JUxsFavc",
        "colab_type": "code",
        "colab": {}
      },
      "source": [
        "from google.colab import drive\n",
        "drive.mount('/content/drive')"
      ],
      "execution_count": 0,
      "outputs": []
    },
    {
      "cell_type": "markdown",
      "metadata": {
        "id": "WrjKbkecGq9s",
        "colab_type": "text"
      },
      "source": [
        "*Read one line from file in Google Drive.  You may need to copy this file to your own Google Drive. You can access this file at available at https://drive.google.com/open?id=1e53Xu-OG0ypThMx1B8j5k_mVCzoXahI5*"
      ]
    },
    {
      "cell_type": "code",
      "metadata": {
        "id": "egV54Xl3Ft55",
        "colab_type": "code",
        "outputId": "11ed1eb6-1783-41de-a905-014962870061",
        "colab": {
          "base_uri": "https://localhost:8080/",
          "height": 51
        }
      },
      "source": [
        "f = open(\"/content/drive/My Drive/test.txt\", \"r\")\n",
        "line = f.readline()\n",
        "print (line)\n",
        "f.close()"
      ],
      "execution_count": 0,
      "outputs": [
        {
          "output_type": "stream",
          "text": [
            "This is CS 432/532 test data to be read in by Google Colab.\n",
            "\n"
          ],
          "name": "stdout"
        }
      ]
    },
    {
      "cell_type": "markdown",
      "metadata": {
        "id": "_6xa4Iy4GuzI",
        "colab_type": "text"
      },
      "source": [
        "*read all lines in from file in Google Drive*"
      ]
    },
    {
      "cell_type": "code",
      "metadata": {
        "id": "Pn-RStabGxSA",
        "colab_type": "code",
        "outputId": "d26e5e4c-9f13-46cb-a4f9-9ceabedf1b31",
        "colab": {
          "base_uri": "https://localhost:8080/",
          "height": 189
        }
      },
      "source": [
        "with open(\"/content/drive/My Drive/test.txt\", \"r\") as f:\n",
        "  lines = f.readlines()\n",
        "  for line in lines:\n",
        "    print (line)"
      ],
      "execution_count": 0,
      "outputs": [
        {
          "output_type": "stream",
          "text": [
            "This is CS 432/532 test data to be read in by Google Colab.\n",
            "\n",
            "Line 2\n",
            "\n",
            "Line 3\n",
            "\n",
            "Line 4\n",
            "\n",
            "EOF\n",
            "\n"
          ],
          "name": "stdout"
        }
      ]
    },
    {
      "cell_type": "markdown",
      "metadata": {
        "id": "rzFM2yLBqSnd",
        "colab_type": "text"
      },
      "source": [
        "*Another way of doing this*"
      ]
    },
    {
      "cell_type": "code",
      "metadata": {
        "id": "5Qu3x8mDqyeX",
        "colab_type": "code",
        "outputId": "8bca0980-849a-47ba-df07-421ab5b5c015",
        "colab": {
          "base_uri": "https://localhost:8080/",
          "height": 189
        }
      },
      "source": [
        "f = open(\"/content/drive/My Drive/test.txt\", \"r\")\n",
        "for line in f:\n",
        "  print(line)"
      ],
      "execution_count": 0,
      "outputs": [
        {
          "output_type": "stream",
          "text": [
            "This is CS 432/532 test data to be read in by Google Colab.\n",
            "\n",
            "Line 2\n",
            "\n",
            "Line 3\n",
            "\n",
            "Line 4\n",
            "\n",
            "EOF\n",
            "\n"
          ],
          "name": "stdout"
        }
      ]
    },
    {
      "cell_type": "code",
      "metadata": {
        "id": "yuDZnasuGiBq",
        "colab_type": "code",
        "colab": {}
      },
      "source": [
        "drive.flush_and_unmount()"
      ],
      "execution_count": 0,
      "outputs": []
    },
    {
      "cell_type": "markdown",
      "metadata": {
        "id": "AC7SeBMBk4yC",
        "colab_type": "text"
      },
      "source": [
        "## Control Flow"
      ]
    },
    {
      "cell_type": "markdown",
      "metadata": {
        "id": "QgYUI4Iurhxv",
        "colab_type": "text"
      },
      "source": [
        "### Conditional"
      ]
    },
    {
      "cell_type": "code",
      "metadata": {
        "id": "6z7aezvflF_H",
        "colab_type": "code",
        "outputId": "f8516492-68e7-41ad-9cc1-fd8bf1b59d6d",
        "colab": {
          "base_uri": "https://localhost:8080/",
          "height": 34
        }
      },
      "source": [
        "score = input ('Enter the score: ')"
      ],
      "execution_count": 0,
      "outputs": [
        {
          "output_type": "stream",
          "text": [
            "Enter the score: 5\n"
          ],
          "name": "stdout"
        }
      ]
    },
    {
      "cell_type": "markdown",
      "metadata": {
        "id": "k_tf6VGElb1l",
        "colab_type": "text"
      },
      "source": [
        "*Need to convert user input `score` to integer before entering conditional*"
      ]
    },
    {
      "cell_type": "code",
      "metadata": {
        "id": "tVHast0jlX5E",
        "colab_type": "code",
        "colab": {}
      },
      "source": [
        "score = int(score)"
      ],
      "execution_count": 0,
      "outputs": []
    },
    {
      "cell_type": "code",
      "metadata": {
        "id": "g_ZK5FNxk8CZ",
        "colab_type": "code",
        "outputId": "305d9f38-ad5d-4c0f-a643-46c3190a691f",
        "colab": {
          "base_uri": "https://localhost:8080/",
          "height": 34
        }
      },
      "source": [
        "if score == 100:\n",
        "      print(\"You scored a hundred!\")\n",
        "elif score > 80:\n",
        "      print(\"You are an awesome student!\")\n",
        "else:\n",
        "      print(\"Go and study!\")"
      ],
      "execution_count": 0,
      "outputs": [
        {
          "output_type": "stream",
          "text": [
            "Go and study!\n"
          ],
          "name": "stdout"
        }
      ]
    },
    {
      "cell_type": "markdown",
      "metadata": {
        "id": "4R1sV23hrmMG",
        "colab_type": "text"
      },
      "source": [
        "### While"
      ]
    },
    {
      "cell_type": "code",
      "metadata": {
        "id": "TWs8eFvYro3g",
        "colab_type": "code",
        "outputId": "19955d3d-94e5-442c-e1e6-88eff31032b1",
        "colab": {
          "base_uri": "https://localhost:8080/",
          "height": 189
        }
      },
      "source": [
        "i = 0\n",
        "while i < 10:\n",
        "  print(i)\n",
        "  i = i + 1"
      ],
      "execution_count": 0,
      "outputs": [
        {
          "output_type": "stream",
          "text": [
            "0\n",
            "1\n",
            "2\n",
            "3\n",
            "4\n",
            "5\n",
            "6\n",
            "7\n",
            "8\n",
            "9\n"
          ],
          "name": "stdout"
        }
      ]
    },
    {
      "cell_type": "markdown",
      "metadata": {
        "id": "PjxceQ2grwnB",
        "colab_type": "text"
      },
      "source": [
        "### For"
      ]
    },
    {
      "cell_type": "code",
      "metadata": {
        "id": "Tc0VlzqcryRH",
        "colab_type": "code",
        "outputId": "745b1674-9665-4621-ae1b-66ea303738c7",
        "colab": {
          "base_uri": "https://localhost:8080/",
          "height": 189
        }
      },
      "source": [
        "for i in range(10):\n",
        "\t print(i)"
      ],
      "execution_count": 0,
      "outputs": [
        {
          "output_type": "stream",
          "text": [
            "0\n",
            "1\n",
            "2\n",
            "3\n",
            "4\n",
            "5\n",
            "6\n",
            "7\n",
            "8\n",
            "9\n"
          ],
          "name": "stdout"
        }
      ]
    },
    {
      "cell_type": "markdown",
      "metadata": {
        "id": "HywCYgHThUiy",
        "colab_type": "text"
      },
      "source": [
        "*Here are a few more examples about `range()`, using start, stop, step arguments*"
      ]
    },
    {
      "cell_type": "code",
      "metadata": {
        "id": "zbilbrtVhZMW",
        "colab_type": "code",
        "outputId": "2c9892b5-3779-4574-8134-eee00a764192",
        "colab": {
          "base_uri": "https://localhost:8080/",
          "height": 103
        }
      },
      "source": [
        "for i in range (1, 6):\n",
        "  print (i)"
      ],
      "execution_count": 0,
      "outputs": [
        {
          "output_type": "stream",
          "text": [
            "1\n",
            "2\n",
            "3\n",
            "4\n",
            "5\n"
          ],
          "name": "stdout"
        }
      ]
    },
    {
      "cell_type": "code",
      "metadata": {
        "id": "pWEoj7tYkZMW",
        "colab_type": "code",
        "outputId": "21b8e803-16c9-45d6-e3a0-620ec8fc04ba",
        "colab": {
          "base_uri": "https://localhost:8080/",
          "height": 68
        }
      },
      "source": [
        "for i in range (1, 6, 2):\n",
        "  print(i)"
      ],
      "execution_count": 0,
      "outputs": [
        {
          "output_type": "stream",
          "text": [
            "1\n",
            "3\n",
            "5\n"
          ],
          "name": "stdout"
        }
      ]
    },
    {
      "cell_type": "code",
      "metadata": {
        "id": "USTtXjlAr3R2",
        "colab_type": "code",
        "outputId": "d2479509-c845-49db-8d50-d2c333968c9b",
        "colab": {
          "base_uri": "https://localhost:8080/",
          "height": 103
        }
      },
      "source": [
        "myList = ['hany', 'john', 'smith', 'aly', 'max']\n",
        "for name in myList:\n",
        "  print(name)"
      ],
      "execution_count": 0,
      "outputs": [
        {
          "output_type": "stream",
          "text": [
            "hany\n",
            "john\n",
            "smith\n",
            "aly\n",
            "max\n"
          ],
          "name": "stdout"
        }
      ]
    },
    {
      "cell_type": "markdown",
      "metadata": {
        "id": "nqqYzlF-r_tk",
        "colab_type": "text"
      },
      "source": [
        "### Blocks"
      ]
    },
    {
      "cell_type": "code",
      "metadata": {
        "id": "ISdcNb8IsA40",
        "colab_type": "code",
        "outputId": "2ec61cd8-ae5d-42ee-8692-735fafa70180",
        "colab": {
          "base_uri": "https://localhost:8080/",
          "height": 120
        }
      },
      "source": [
        "for i in range(3):\n",
        "    print(\"Iteration {}\".format(i))\n",
        "    print(\"Done!\")"
      ],
      "execution_count": 0,
      "outputs": [
        {
          "output_type": "stream",
          "text": [
            "Iteration 0\n",
            "Done!\n",
            "Iteration 1\n",
            "Done!\n",
            "Iteration 2\n",
            "Done!\n"
          ],
          "name": "stdout"
        }
      ]
    },
    {
      "cell_type": "markdown",
      "metadata": {
        "id": "_goQynvysFvb",
        "colab_type": "text"
      },
      "source": [
        "*Only change is in indentation...*"
      ]
    },
    {
      "cell_type": "code",
      "metadata": {
        "id": "MLsCSveasDWs",
        "colab_type": "code",
        "outputId": "9090b258-45fe-4b59-eb4c-e646d3e6d224",
        "colab": {
          "base_uri": "https://localhost:8080/",
          "height": 86
        }
      },
      "source": [
        "for i in range(3):\n",
        "    print(\"Iteration {}\".format(i))\n",
        "print(\"Done!\")\n"
      ],
      "execution_count": 0,
      "outputs": [
        {
          "output_type": "stream",
          "text": [
            "Iteration 0\n",
            "Iteration 1\n",
            "Iteration 2\n",
            "Done!\n"
          ],
          "name": "stdout"
        }
      ]
    },
    {
      "cell_type": "markdown",
      "metadata": {
        "id": "P0vF17BKscOo",
        "colab_type": "text"
      },
      "source": [
        "### Block Operators"
      ]
    },
    {
      "cell_type": "markdown",
      "metadata": {
        "id": "fPH6Qac2shkn",
        "colab_type": "text"
      },
      "source": [
        "*`pass` - means to do nothing*"
      ]
    },
    {
      "cell_type": "code",
      "metadata": {
        "id": "ggm4HIaZsfXH",
        "colab_type": "code",
        "outputId": "394d164a-c2af-43ca-cdd4-0a7ac5370dd0",
        "colab": {
          "base_uri": "https://localhost:8080/",
          "height": 34
        }
      },
      "source": [
        "x = 75\n",
        "if x > 80:\n",
        "\tpass\n",
        "else:\n",
        "\tprint(\"You are less than 80!\")"
      ],
      "execution_count": 0,
      "outputs": [
        {
          "output_type": "stream",
          "text": [
            "You are less than 80!\n"
          ],
          "name": "stdout"
        }
      ]
    },
    {
      "cell_type": "markdown",
      "metadata": {
        "id": "7ao0PiOUsxqn",
        "colab_type": "text"
      },
      "source": [
        "*`break` - same as in C++, quit the loop*"
      ]
    },
    {
      "cell_type": "code",
      "metadata": {
        "id": "IEkwdr8Xs0_6",
        "colab_type": "code",
        "outputId": "13c4f516-b5b2-4c9c-da1b-7e0b7709b9a2",
        "colab": {
          "base_uri": "https://localhost:8080/",
          "height": 68
        }
      },
      "source": [
        "for name in myList:\n",
        "\tif name == \"aly\":\n",
        "\t\tbreak\n",
        "\telse:\n",
        "\t\tprint(name)"
      ],
      "execution_count": 0,
      "outputs": [
        {
          "output_type": "stream",
          "text": [
            "hany\n",
            "john\n",
            "smith\n"
          ],
          "name": "stdout"
        }
      ]
    },
    {
      "cell_type": "markdown",
      "metadata": {
        "id": "ecvoSC1Js5VM",
        "colab_type": "text"
      },
      "source": [
        "*`continue` - same as in C++, continue to the next iteration*"
      ]
    },
    {
      "cell_type": "code",
      "metadata": {
        "id": "0Mrs190-s9Ki",
        "colab_type": "code",
        "outputId": "f54bfaa0-4835-493f-81ef-c7b02ee4916f",
        "colab": {
          "base_uri": "https://localhost:8080/",
          "height": 86
        }
      },
      "source": [
        "for name in myList:\n",
        "\tif name == \"aly\":\n",
        "\t\tcontinue\n",
        "\telse:\n",
        "\t\tprint(name)"
      ],
      "execution_count": 0,
      "outputs": [
        {
          "output_type": "stream",
          "text": [
            "hany\n",
            "john\n",
            "smith\n",
            "max\n"
          ],
          "name": "stdout"
        }
      ]
    },
    {
      "cell_type": "markdown",
      "metadata": {
        "id": "jiF5omPgtEYZ",
        "colab_type": "text"
      },
      "source": [
        "## Functions"
      ]
    },
    {
      "cell_type": "markdown",
      "metadata": {
        "id": "0AXF8pARtJrg",
        "colab_type": "text"
      },
      "source": [
        "*How can we find the largest number in a list?*\n",
        "\n",
        "**Option 1:** hard-code the logic"
      ]
    },
    {
      "cell_type": "code",
      "metadata": {
        "id": "tuI20k_ytOhH",
        "colab_type": "code",
        "outputId": "af69f83d-c471-4627-8a06-5339277b1cf9",
        "colab": {
          "base_uri": "https://localhost:8080/",
          "height": 34
        }
      },
      "source": [
        "mylist = [2,5,3,7,1,8,12,4]\n",
        "maxnum = 0\n",
        "for num in mylist:\n",
        "\tif (num>maxnum):\n",
        "\t\tmaxnum = num\n",
        "print(\"The largest number is {}\".format(maxnum))"
      ],
      "execution_count": 0,
      "outputs": [
        {
          "output_type": "stream",
          "text": [
            "The largest number is 12\n"
          ],
          "name": "stdout"
        }
      ]
    },
    {
      "cell_type": "markdown",
      "metadata": {
        "id": "QC1FO49QtbCY",
        "colab_type": "text"
      },
      "source": [
        "**Option 2:** write and use a function"
      ]
    },
    {
      "cell_type": "code",
      "metadata": {
        "id": "sVO9PkF1tnFb",
        "colab_type": "code",
        "colab": {}
      },
      "source": [
        "def getMaxNumber(list_x):\n",
        "  maxnum = 0\n",
        "  for num in list_x: \n",
        "    if (num > maxnum):\n",
        "      maxnum = num\n",
        "  return maxnum"
      ],
      "execution_count": 0,
      "outputs": []
    },
    {
      "cell_type": "code",
      "metadata": {
        "id": "DzeKzLO9tgyr",
        "colab_type": "code",
        "outputId": "afa15a96-fdfe-4214-d563-c80a3e4ad7ae",
        "colab": {
          "base_uri": "https://localhost:8080/",
          "height": 34
        }
      },
      "source": [
        "maxnum = getMaxNumber(mylist)\n",
        "print(\"The largest number is {}\".format(maxnum))"
      ],
      "execution_count": 0,
      "outputs": [
        {
          "output_type": "stream",
          "text": [
            "The largest number is 12\n"
          ],
          "name": "stdout"
        }
      ]
    },
    {
      "cell_type": "markdown",
      "metadata": {
        "id": "4BV0fB1OwsCa",
        "colab_type": "text"
      },
      "source": [
        "*Let's add code to run some test cases on the function. `doctest` allows us to provide example function calls and expected output.*"
      ]
    },
    {
      "cell_type": "code",
      "metadata": {
        "id": "MW0qrgE2trGz",
        "colab_type": "code",
        "outputId": "278bf888-0684-46e9-f667-ae5337bbc550",
        "colab": {
          "base_uri": "https://localhost:8080/",
          "height": 224
        }
      },
      "source": [
        "def getMaxNumber(list_x):\n",
        "  \"\"\"\n",
        "  Returns the maximum number from the supplied list\n",
        "  >>> getMaxNumber([4, 7, 2, 5])\n",
        "  7\n",
        "  >>> getMaxNumber([-3, 9, 2])\n",
        "  9\n",
        "  >>> getMaxNumber([-3, -7, -1])\n",
        "  -1\n",
        "  \"\"\"\n",
        "  maxnum = 0\n",
        "  for num in list_x:\n",
        "    if (num>maxnum):\n",
        "      maxnum = num\n",
        "  return maxnum\n",
        "\n",
        "if __name__ == '__main__':\n",
        "  import doctest\n",
        "  doctest.testmod()"
      ],
      "execution_count": 0,
      "outputs": [
        {
          "output_type": "stream",
          "text": [
            "**********************************************************************\n",
            "File \"__main__\", line 8, in __main__.getMaxNumber\n",
            "Failed example:\n",
            "    getMaxNumber([-3, -7, -1])\n",
            "Expected:\n",
            "    -1\n",
            "Got:\n",
            "    0\n",
            "**********************************************************************\n",
            "1 items had failures:\n",
            "   1 of   3 in __main__.getMaxNumber\n",
            "***Test Failed*** 1 failures.\n"
          ],
          "name": "stdout"
        }
      ]
    },
    {
      "cell_type": "markdown",
      "metadata": {
        "id": "UBa4MFEFyX1P",
        "colab_type": "text"
      },
      "source": [
        "*What went wrong? `maxnum = 0`*"
      ]
    },
    {
      "cell_type": "code",
      "metadata": {
        "id": "-ZjiPoV4ybIf",
        "colab_type": "code",
        "colab": {}
      },
      "source": [
        "def getMaxNumber2(list_x):\n",
        "  maxnum = list_x[0]\n",
        "  for num in list_x:\n",
        "    if (num>maxnum):\n",
        "      maxnum = num\n",
        "  return maxnum"
      ],
      "execution_count": 0,
      "outputs": []
    },
    {
      "cell_type": "code",
      "metadata": {
        "id": "oyY_vi1NzsQc",
        "colab_type": "code",
        "outputId": "159d38a2-8973-4c7b-99dc-57604c71d1d2",
        "colab": {
          "base_uri": "https://localhost:8080/",
          "height": 34
        }
      },
      "source": [
        "getMaxNumber2([-3, -7, -1])"
      ],
      "execution_count": 0,
      "outputs": [
        {
          "output_type": "execute_result",
          "data": {
            "text/plain": [
              "-1"
            ]
          },
          "metadata": {
            "tags": []
          },
          "execution_count": 73
        }
      ]
    },
    {
      "cell_type": "markdown",
      "metadata": {
        "id": "dMsMDDtMxRPG",
        "colab_type": "text"
      },
      "source": [
        "*There's actually already a built-in function for this...*"
      ]
    },
    {
      "cell_type": "code",
      "metadata": {
        "id": "XTGfkvUxxU2a",
        "colab_type": "code",
        "outputId": "d47fd3e5-4961-488d-9502-b303e4334792",
        "colab": {
          "base_uri": "https://localhost:8080/",
          "height": 34
        }
      },
      "source": [
        "max([-3, -7, -1])"
      ],
      "execution_count": 0,
      "outputs": [
        {
          "output_type": "execute_result",
          "data": {
            "text/plain": [
              "-1"
            ]
          },
          "metadata": {
            "tags": []
          },
          "execution_count": 74
        }
      ]
    },
    {
      "cell_type": "markdown",
      "metadata": {
        "id": "lPeC56220JxD",
        "colab_type": "text"
      },
      "source": [
        "*Functions can also return multiple values*"
      ]
    },
    {
      "cell_type": "code",
      "metadata": {
        "id": "lzbVAxbL0MpL",
        "colab_type": "code",
        "colab": {}
      },
      "source": [
        "def getMaxNumberAndIndex(list_x):\n",
        "  maxnum = list_x[0]\n",
        "  index = -1\n",
        "  i = 0\n",
        "  for num in list_x:\n",
        "\t  if (num>maxnum):\n",
        "\t  \tmaxnum = num\n",
        "\t  \tindex = i\n",
        "\t  i = i + 1\n",
        "  return maxnum, index"
      ],
      "execution_count": 0,
      "outputs": []
    },
    {
      "cell_type": "code",
      "metadata": {
        "id": "T6kVOVrW0X6o",
        "colab_type": "code",
        "outputId": "ba2e8dea-0901-4e90-9c03-ee71a167939d",
        "colab": {
          "base_uri": "https://localhost:8080/",
          "height": 34
        }
      },
      "source": [
        "mylist = [2,5,3,7,1,8,12,4]\n",
        "maxnum, idx = getMaxNumberAndIndex(mylist)\n",
        "#print(\"The largest number is {} and its index is {}\" . format(maxnum, idx))\n",
        "print(f\"The largest number is {maxnum} and its index is {idx}\")"
      ],
      "execution_count": 0,
      "outputs": [
        {
          "output_type": "stream",
          "text": [
            "The largest number is 12 and its index is 6\n"
          ],
          "name": "stdout"
        }
      ]
    },
    {
      "cell_type": "markdown",
      "metadata": {
        "id": "om9sGyskSEnB",
        "colab_type": "text"
      },
      "source": [
        "## Using Libraries"
      ]
    },
    {
      "cell_type": "code",
      "metadata": {
        "id": "Qx-DbyhbSJNh",
        "colab_type": "code",
        "outputId": "674fd280-8ab8-48ec-d9d2-2a49f4d6bf53",
        "colab": {
          "base_uri": "https://localhost:8080/",
          "height": 34
        }
      },
      "source": [
        "import math\n",
        "print (math.sqrt(9.0))"
      ],
      "execution_count": 0,
      "outputs": [
        {
          "output_type": "stream",
          "text": [
            "3.0\n"
          ],
          "name": "stdout"
        }
      ]
    },
    {
      "cell_type": "code",
      "metadata": {
        "id": "iQVfCC5ZSTW-",
        "colab_type": "code",
        "outputId": "9ea61c94-6ec9-4af5-93d4-11b84c95a01a",
        "colab": {
          "base_uri": "https://localhost:8080/",
          "height": 34
        }
      },
      "source": [
        "from math import sqrt\n",
        "print (sqrt(25.0))\n"
      ],
      "execution_count": 0,
      "outputs": [
        {
          "output_type": "stream",
          "text": [
            "5.0\n"
          ],
          "name": "stdout"
        }
      ]
    },
    {
      "cell_type": "markdown",
      "metadata": {
        "id": "kU-9iRvbXghj",
        "colab_type": "text"
      },
      "source": [
        "## Error Handling"
      ]
    },
    {
      "cell_type": "code",
      "metadata": {
        "id": "1mH4qa17XiDt",
        "colab_type": "code",
        "outputId": "cacd8c17-8a10-4c44-a520-d6b1aa2baabc",
        "colab": {
          "base_uri": "https://localhost:8080/",
          "height": 34
        }
      },
      "source": [
        "sum_grades = 300\n",
        "num_students = input()"
      ],
      "execution_count": 0,
      "outputs": [
        {
          "output_type": "stream",
          "text": [
            "0\n"
          ],
          "name": "stdout"
        }
      ]
    },
    {
      "cell_type": "code",
      "metadata": {
        "id": "1g7PU5EnXmIy",
        "colab_type": "code",
        "outputId": "1a63740c-6e48-402c-892b-d7452b46b30b",
        "colab": {
          "base_uri": "https://localhost:8080/",
          "height": 165
        }
      },
      "source": [
        "average = sum_grades / int(num_students)\n"
      ],
      "execution_count": 0,
      "outputs": [
        {
          "output_type": "error",
          "ename": "ZeroDivisionError",
          "evalue": "ignored",
          "traceback": [
            "\u001b[0;31m---------------------------------------------------------------------------\u001b[0m",
            "\u001b[0;31mZeroDivisionError\u001b[0m                         Traceback (most recent call last)",
            "\u001b[0;32m<ipython-input-81-10c8d2dd7547>\u001b[0m in \u001b[0;36m<module>\u001b[0;34m()\u001b[0m\n\u001b[0;32m----> 1\u001b[0;31m \u001b[0maverage\u001b[0m \u001b[0;34m=\u001b[0m \u001b[0msum_grades\u001b[0m \u001b[0;34m/\u001b[0m \u001b[0mint\u001b[0m\u001b[0;34m(\u001b[0m\u001b[0mnum_students\u001b[0m\u001b[0;34m)\u001b[0m\u001b[0;34m\u001b[0m\u001b[0;34m\u001b[0m\u001b[0m\n\u001b[0m",
            "\u001b[0;31mZeroDivisionError\u001b[0m: division by zero"
          ]
        }
      ]
    },
    {
      "cell_type": "code",
      "metadata": {
        "id": "ZzasrD_ZYQ_z",
        "colab_type": "code",
        "outputId": "158cd580-4298-4729-af8d-36c3759d1199",
        "colab": {
          "base_uri": "https://localhost:8080/",
          "height": 34
        }
      },
      "source": [
        "try:\n",
        "\taverage = sum_grades / int(num_students)\n",
        "except:\n",
        "\t# This catches if something wrong happens\n",
        "\tprint(\"Something wrong happened, please check it!\")\n",
        "\taverage = 0"
      ],
      "execution_count": 0,
      "outputs": [
        {
          "output_type": "stream",
          "text": [
            "Something wrong happened, please check it!\n"
          ],
          "name": "stdout"
        }
      ]
    },
    {
      "cell_type": "code",
      "metadata": {
        "id": "LE6EhwmwYdMS",
        "colab_type": "code",
        "outputId": "4710b959-df89-45cc-c032-3169290b1db4",
        "colab": {
          "base_uri": "https://localhost:8080/",
          "height": 34
        }
      },
      "source": [
        "try:\n",
        "\taverage = sum_grades / int(num_students)\n",
        "except ZeroDivisionError:\n",
        "\t# This catches if something wrong happens\n",
        "\tprint(\"Something wrong happened, please check it!\")\n",
        "\taverage = 0"
      ],
      "execution_count": 0,
      "outputs": [
        {
          "output_type": "stream",
          "text": [
            "Something wrong happened, please check it!\n"
          ],
          "name": "stdout"
        }
      ]
    },
    {
      "cell_type": "code",
      "metadata": {
        "id": "BSX6lKJ0YhMn",
        "colab_type": "code",
        "outputId": "9900fc83-37ad-40d4-fc23-c31e4e45ed2c",
        "colab": {
          "base_uri": "https://localhost:8080/",
          "height": 68
        }
      },
      "source": [
        "try:\n",
        "  number_of_students = input()\n",
        "  average = sum_grades / int(num_students)\n",
        "except ZeroDivisionError:\n",
        "\t# This catches if a number was divided by zero\n",
        "\tprint(\"You Evil User!.....you inserted a zero!\")\n",
        "\taverage = 0\n",
        "except IOError:\n",
        "\t# This catches errors happening in the input process\n",
        "\tprint(\"Something went wrong with how you enter words\")\n",
        "\taverage = 0\n",
        "finally:\n",
        "\tprint (\"This is executed\")"
      ],
      "execution_count": 0,
      "outputs": [
        {
          "output_type": "stream",
          "text": [
            "0\n",
            "You Evil User!.....you inserted a zero!\n",
            "This is executed\n"
          ],
          "name": "stdout"
        }
      ]
    },
    {
      "cell_type": "markdown",
      "metadata": {
        "id": "k0YS3UsJYvwN",
        "colab_type": "text"
      },
      "source": [
        "## Generators"
      ]
    },
    {
      "cell_type": "code",
      "metadata": {
        "id": "Czw97n71YxPM",
        "colab_type": "code",
        "colab": {}
      },
      "source": [
        "def fib():\n",
        " a = b = 1\n",
        " while True:\n",
        "    yield a\n",
        "    a, b = b, a + b"
      ],
      "execution_count": 0,
      "outputs": []
    },
    {
      "cell_type": "code",
      "metadata": {
        "id": "fl9gtEB_Y4aM",
        "colab_type": "code",
        "outputId": "5db3516c-e072-441e-b0ba-106df6638dd2",
        "colab": {
          "base_uri": "https://localhost:8080/",
          "height": 120
        }
      },
      "source": [
        "f = fib()\n",
        "print (next(f))\n",
        "print(next(f))\n",
        "print (next(f))\n",
        "print (next(f))\n",
        "print (next(f))\n",
        "print (next(f))"
      ],
      "execution_count": 0,
      "outputs": [
        {
          "output_type": "stream",
          "text": [
            "1\n",
            "1\n",
            "2\n",
            "3\n",
            "5\n",
            "8\n"
          ],
          "name": "stdout"
        }
      ]
    },
    {
      "cell_type": "markdown",
      "metadata": {
        "id": "4eglJSYHZcBE",
        "colab_type": "text"
      },
      "source": [
        "## Regular Expressions"
      ]
    },
    {
      "cell_type": "code",
      "metadata": {
        "id": "WXN1GKkYZdTF",
        "colab_type": "code",
        "outputId": "0e82c61f-429f-4d08-ecd0-cc093e2d624f",
        "colab": {
          "base_uri": "https://localhost:8080/",
          "height": 34
        }
      },
      "source": [
        "import re\n",
        "request = \"HEAD /foo HTTP/1.1\"\n",
        "pattern = re.compile(r\"^([A-Z]+)\\s+(\\S+)\\s+([A-Z0-9\\/\\.]+)$\")\n",
        "m = pattern.match(request)\n",
        "m.groups()"
      ],
      "execution_count": 0,
      "outputs": [
        {
          "output_type": "execute_result",
          "data": {
            "text/plain": [
              "('HEAD', '/foo', 'HTTP/1.1')"
            ]
          },
          "metadata": {
            "tags": []
          },
          "execution_count": 89
        }
      ]
    },
    {
      "cell_type": "code",
      "metadata": {
        "id": "2ErVxj0m8RbH",
        "colab_type": "code",
        "outputId": "ef8619c2-8f42-4a49-b9f8-c73593dd1e19",
        "colab": {
          "base_uri": "https://localhost:8080/",
          "height": 34
        }
      },
      "source": [
        "response = \"HTTP/1.1 200 OK\"\n",
        "pattern = re.compile(r\"^\\S+\\s+([0-9]+)\\s+\\S+$\")\n",
        "m = pattern.match(response)\n",
        "m.groups()"
      ],
      "execution_count": 0,
      "outputs": [
        {
          "output_type": "execute_result",
          "data": {
            "text/plain": [
              "('200',)"
            ]
          },
          "metadata": {
            "tags": []
          },
          "execution_count": 90
        }
      ]
    },
    {
      "cell_type": "markdown",
      "metadata": {
        "id": "KXPeS8vm4Xs9",
        "colab_type": "text"
      },
      "source": [
        "## requests Library"
      ]
    },
    {
      "cell_type": "markdown",
      "metadata": {
        "id": "Ar26PymlBK-I",
        "colab_type": "text"
      },
      "source": [
        "### Accessing response headers"
      ]
    },
    {
      "cell_type": "code",
      "metadata": {
        "id": "ZW-YwJpd4bZd",
        "colab_type": "code",
        "outputId": "a0745f73-199d-4a96-b66d-f8422d776036",
        "colab": {
          "base_uri": "https://localhost:8080/",
          "height": 140
        }
      },
      "source": [
        "import requests\n",
        "response = requests.get('http://example.com')\n",
        "print (\"Status Code: {}\".format(response.status_code))\n",
        "print (response.headers)\n",
        "print ()\n",
        "print (\"URL: {}\".format(response.url))\n",
        "print (\"Date: {}\".format(response.headers['Date']))\n",
        "print (\"Server: {}\".format(response.headers['Server']))"
      ],
      "execution_count": 0,
      "outputs": [
        {
          "output_type": "stream",
          "text": [
            "Status Code: 200\n",
            "{'Content-Encoding': 'gzip', 'Accept-Ranges': 'bytes', 'Age': '529060', 'Cache-Control': 'max-age=604800', 'Content-Type': 'text/html; charset=UTF-8', 'Date': 'Tue, 21 Jan 2020 17:02:59 GMT', 'Etag': '\"3147526947+ident\"', 'Expires': 'Tue, 28 Jan 2020 17:02:59 GMT', 'Last-Modified': 'Thu, 17 Oct 2019 07:18:26 GMT', 'Server': 'ECS (nyb/1D06)', 'Vary': 'Accept-Encoding', 'X-Cache': 'HIT', 'Content-Length': '648'}\n",
            "\n",
            "URL: http://example.com/\n",
            "Date: Tue, 21 Jan 2020 17:02:59 GMT\n",
            "Server: ECS (nyb/1D06)\n"
          ],
          "name": "stdout"
        }
      ]
    },
    {
      "cell_type": "markdown",
      "metadata": {
        "id": "qPxXZz1GBOye",
        "colab_type": "text"
      },
      "source": [
        "### Using request query parameters"
      ]
    },
    {
      "cell_type": "code",
      "metadata": {
        "id": "dmAc9lVBBbVH",
        "colab_type": "code",
        "outputId": "1ed1b0e2-5c8a-4a41-c80f-c53cd9d7797d",
        "colab": {
          "base_uri": "https://localhost:8080/",
          "height": 140
        }
      },
      "source": [
        "import requests\n",
        "response = requests.get('http://google.com/search', params={'q': 'lsu'})\n",
        "print (\"Status Code: {}\".format(response.status_code))\n",
        "print()\n",
        "\n",
        "# use loop to only print 5 lines of the response\n",
        "i=0\n",
        "for line in response.text.splitlines():\n",
        "  i = i+1\n",
        "  if (i == 5): \n",
        "      break\n",
        "  print (line)\n"
      ],
      "execution_count": 0,
      "outputs": [
        {
          "output_type": "stream",
          "text": [
            "Status Code: 200\n",
            "\n",
            "<!doctype html><html lang=\"en\"><head><meta charset=\"UTF-8\"><meta content=\"/images/branding/googleg/1x/googleg_standard_color_128dp.png\" itemprop=\"image\"><title>lsu - Google Search</title><script nonce=\"YmQl8F9BSGhDHcoVy5TsCg==\">(function(){\n",
            "document.documentElement.addEventListener(\"submit\",function(b){var a;if(a=b.target){var c=a.getAttribute(\"data-submitfalse\");a=\"1\"==c||\"q\"==c&&!a.elements.q.value?!0:!1}else a=!1;a&&(b.preventDefault(),b.stopPropagation())},!0);}).call(this);(function(){\n",
            "var a=window.performance;window.start=(new Date).getTime();a:{var b=window;if(a){var c=a.timing;if(c){var d=c.navigationStart,f=c.responseStart;if(f>d&&f<=window.start){window.start=f;b.wsrt=f-d;break a}}a.now&&(b.wsrt=Math.floor(a.now()))}}window.google=window.google||{};google.aft=function(g){g.setAttribute(\"data-iml\",+new Date)};}).call(this);(function(){window.jsarwt=function(){return!1};}).call(this);(function(){\n",
            "var c=[],e=0;window.ping=function(b){-1==b.indexOf(\"&zx\")&&(b+=\"&zx=\"+(new Date).getTime());var a=new Image,d=e++;c[d]=a;a.onerror=a.onload=a.onabort=function(){delete c[d]};a.src=b};}).call(this);</script><style>body{margin:0 auto;max-width:736px;padding:0 8px}a{color:#1967D2;text-decoration:none;tap-highlight-color:rgba(0,0,0,.1)}a:visited{color:#4B11A8}a:hover{text-decoration:underline}img{border:0}html{font-family:Roboto,HelveticaNeue,Arial,sans-serif;font-size:14px;line-height:20px;text-size-adjust:100%;color:#3C4043;word-wrap:break-word;background-color:#fff}.bRsWnc{background-color:#fff;border-top:1px solid #e0e0e0;height:39px;overflow:hidden}.N6RWV{height:51px;overflow-scrolling:touch;overflow-x:auto;overflow-y:hidden}.Uv67qb{box-pack:justify;font-size:12px;line-height:37px;justify-content:space-between;justify-content:space-between}.Uv67qb a,.Uv67qb span{color:#757575;display:block;flex:none;padding:0 16px;text-align:center;text-transform:uppercase;}span.OXXup{border-bottom:2px solid #4285f4;color:#4285f4;font-weight:bold}a.eZt8xd:visited{color:#757575}.FElbsf{border-left:1px solid rgba(0,0,0,.12)}header article{overflow:visible}.Pg70bf{height:39px;display:box;display:flex;display:flex;width:100%}.H0PQec{position:relative;flex:1}.sbc{display:flex;width:100%}.Pg70bf input{margin:2px 4px 2px 8px;}.x{width:26px;color:#757575;font:27px/38px arial, sans-serif;line-height:40px;}#qdClwb{flex:0 0 auto;width:39px;height:39px;border-bottom:0;padding:0;border-top-right-radius:8px;background-color:#3b78e7;border:1px solid #3367d6;background-image:url(data:image/gif;base64,R0lGODdhJAAjAPIHAODr/nCk+MPZ/FmV96zK+/7+/5K5+kqL9iwAAAAAJAAjAEADani63P4wykmbKcQRXDscQAEMXmmeaLQVLCukzyC09AjfeK7v/MAajACLhPMVAgwjsUcEiZa8xgAYrVqv2Kx2iwsIAAABknfBBAKrTE4IcMyot8ur8datqIbQfJdnAfo2WE6BV05wXIiJigkAOw==);}.sc{font-size:;position:absolute;top:39px;left:0;right:0;box-shadow:0px 2px 5px rgba(0,0,0,0.2);z-index:2;background-color:#fff}.sc>div{padding:10px 10px;padding-left:16px;padding-left:14px;border-top:1px solid #DFE1E5}.scs{background-color:#f5f5f5;}.noHIxc{display:block;font-size:16px;padding:0 0 0 8px;flex:1;height:35px;outline:none;border:none;width:100%;-webkit-tap-highlight-color:rgba(0,0,0,0);overflow:hidden;}.sbc input[type=text]{background:none}.sml .cOl4Id{display:none}.l{display:none}.sml header{background:none}.sml .l{display:block;padding:0 8px}.sml .l{letter-spacing:-1px;text-align:center;border-radius:2px 0 0 0;font:22px/36px Futura, Arial, sans-serif;font-smoothing:antialiased}.bz1lBb{background:#fff;border-radius:8px 8px 0 0;box-shadow:0 1px 6px rgba(32, 33, 36, 0.18);margin-top:10px}.KP7LCb{border-radius:0 0 8px 8px;box-shadow:0 2px 3px rgba(32, 33, 36, 0.18);margin-bottom:10px;overflow:hidden}.cOl4Id{letter-spacing:-1px;text-align:center;font:22pt Futura, Arial, sans-serif;padding:10px 0 5px 0;height:37px;font-smoothing:antialiased}.cOl4Id span{display:inline-block}.S591j{height:100%}.V6gwVd{color:#4285F4}.iWkuvd{color:#EA4335}.cDrQ7{color:#fbcc05}.ntlR9{color:#34A853}.tJ3Myc{-webkit-transform:rotate(-20deg);position:relative;left:-1px;display:inline-block}footer{text-align:center;margin-top:18px}footer a,footer a:visited,.smiUbb{color:#5f6368}</style><style>.ksTU4c{margin:0 13px}#mCljob{margin-top:36px}#mCljob>div{margin:20px}</style></head><body jsmodel=\" TvHxbe\"><header id=\"hdr\"><script nonce=\"YmQl8F9BSGhDHcoVy5TsCg==\">(function(){var c=500;(function(){window.screen&&window.screen.width<=c&&window.screen.height<=c&&document.getElementById(\"hdr\").classList.add(\"sml\");}).call(this);})();</script><div class=\"cOl4Id\"><a href=\"/?sa=X&amp;ved=0ahUKEwju1_aflpXnAhXOJFAKHdGuCr8QOwgC\"><span class=\"V6gwVd\">G</span><span class=\"iWkuvd\">o</span><span class=\"cDrQ7\">o</span><span class=\"V6gwVd\">g</span><span class=\"ntlR9\">l</span><span class=\"iWkuvd tJ3Myc\">e</span></a></div><div class=\"bz1lBb\"><form class=\"Pg70bf\" id=\"sf\"><a class=\"l\" href=\"/?output=search&amp;ie=UTF-8&amp;sa=X&amp;ved=0ahUKEwju1_aflpXnAhXOJFAKHdGuCr8QPAgE\"><span class=\"V6gwVd\">G</span><span class=\"iWkuvd\">o</span><span class=\"cDrQ7\">o</span><span class=\"V6gwVd\">g</span><span class=\"ntlR9\">l</span><span class=\"iWkuvd tJ3Myc\">e</span></a><input name=\"ie\" value=\"ISO-8859-1\" type=\"hidden\"><div class=\"H0PQec\"><div class=\"sbc esbc\"><input class=\"noHIxc\" value=\"lsu\" autocapitalize=\"none\" autocomplete=\"off\" name=\"q\" spellcheck=\"false\" type=\"text\"><input name=\"oq\" type=\"hidden\"><input name=\"aqs\" type=\"hidden\"><div class=\"x\">×</div><div class=\"sc\"></div></div></div><button id=\"qdClwb\" type=\"submit\"></button></form></div><noscript><meta content=\"0;url=/search?q=lsu&amp;ie=UTF-8&amp;gbv=1&amp;sei=8C4nXu6fIM7JwALR3ar4Cw\" http-equiv=\"refresh\"><style>table,div,span,p{display:none}</style><div style=\"display:block\">Please click <a href=\"/search?q=lsu&amp;ie=UTF-8&amp;gbv=1&amp;sei=8C4nXu6fIM7JwALR3ar4Cw\">here</a> if you are not redirected within a few seconds.</div></noscript></header><div id=\"main\"><div><div class=\"KP7LCb\"> <div class=\"bRsWnc\"> <div class=\"N6RWV\"> <div class=\"Pg70bf Uv67qb\"> <span class=\"OXXup\">All</span><a class=\"eZt8xd\" href=\"/search?q=lsu&amp;ie=UTF-8&amp;source=lnms&amp;tbm=nws&amp;sa=X&amp;ved=0ahUKEwju1_aflpXnAhXOJFAKHdGuCr8Q_AUICCgB\">News</a><a class=\"eZt8xd\" href=\"/search?q=lsu&amp;ie=UTF-8&amp;source=lnms&amp;tbm=isch&amp;sa=X&amp;ved=0ahUKEwju1_aflpXnAhXOJFAKHdGuCr8Q_AUICSgC\">Images</a><a class=\"eZt8xd\" href=\"/search?q=lsu&amp;ie=UTF-8&amp;source=lnms&amp;tbm=vid&amp;sa=X&amp;ved=0ahUKEwju1_aflpXnAhXOJFAKHdGuCr8Q_AUICigD\">Videos</a>  <a href=\"http://maps.google.com/maps?q=lsu&amp;um=1&amp;ie=UTF-8&amp;sa=X&amp;ved=0ahUKEwju1_aflpXnAhXOJFAKHdGuCr8Q_AUICygE\">Maps</a>  <a href=\"/search?q=lsu&amp;ie=UTF-8&amp;source=lnms&amp;tbm=shop&amp;sa=X&amp;ved=0ahUKEwju1_aflpXnAhXOJFAKHdGuCr8Q_AUIDCgF\">Shopping</a>  <a href=\"/search?q=lsu&amp;ie=UTF-8&amp;source=lnms&amp;tbm=bks&amp;sa=X&amp;ved=0ahUKEwju1_aflpXnAhXOJFAKHdGuCr8Q_AUIDSgG\">Books</a>    <div class=\"FElbsf\"><a href=\"/advanced_search\" style=\"white-space:nowrap\" id=\"st-toggle\" role=\"button\">Search tools</a></div> </div> </div> </div> </div><div class=\"Pg70bf wEsjbd ZINbbc xpd O9g5cc uUPGi\" style=\"display:none\" id=\"st-card\"><style>.wEsjbd{background-color:#fff;height:44px;white-space:nowrap}.coPU8c{height:60px;overflow-scrolling:touch;overflow-x:auto;overflow-y:hidden}.Xj2aue{height:44px;overflow:hidden}.RnNGze{margin:11px 16px}.wEsjbd div,.wEsjbd a,.wEsjbd li{outline-width:0;outline:none}</style><div class=\"Xj2aue\"><div class=\"coPU8c\"><div class=\"RnNGze\"><style>.PA9J5{display:inline-block}.RXaOfd{display:inline-block;height:22px;position:relative;padding-top:0;padding-bottom:0;padding-right:16px;padding-left:0;line-height:22px;cursor:pointer;text-transform:uppercase;font-size:12px;color:#757575}.sa1toc{display:none;position:absolute;background:#fff;border:1px solid #d6d6d6;box-shadow:0 2px 4px rgba(0,0,0,0.3);margin:0;white-space:nowrap;z-index:103;line-height:17px;padding-top:5px;padding-bottom:5px;padding-left:0px}.PA9J5:hover .sa1toc{display:block}.mGSy8d a:active,.RXaOfd:active{color:#4285f4}</style><div class=\"PA9J5\"><div class=\"RXaOfd\" role=\"button\" tabindex=\"0\"><style>.TWMOUc{display:inline-block;padding-right:14px;white-space:nowrap}.vQYuGf{font-weight:bold}.OmTIzf{border-color:#909090 transparent;border-style:solid;border-width:4px 4px 0 4px;width:0;height:0;margin-left:-10px;top:50%;margin-top:-2px;position:absolute}.RXaOfd:active .OmTIzf{border-color:#4285f4 transparent}</style><div class=\"TWMOUc\">Any time</div><span class=\"OmTIzf\"></span></div><ul class=\"sa1toc ozatM\"><style>.ozatM{font-size:12px;text-transform:uppercase}.ozatM .yNFsl,.ozatM li{list-style-type:none;list-style-position:outside;list-style-image:none}.yNFsl.SkUj4c,.yNFsl a{color:rgba(0,0,0,0.54);text-decoration:none;padding:6px 44px 6px 14px;line-height:17px;display:block}.SkUj4c{background-image:url(//ssl.gstatic.com/ui/v1/menu/checkmark2.png);background-position:right center;background-repeat:no-repeat}.SkUj4c:active{background-color:#f5f5f5}</style><li class=\"yNFsl SkUj4c\">Any time</li><li class=\"yNFsl\"><a href=\"/search?q=lsu&amp;ie=UTF-8&amp;source=lnt&amp;tbs=qdr:h&amp;sa=X&amp;ved=0ahUKEwju1_aflpXnAhXOJFAKHdGuCr8QpwUIDw\">Past hour</a></li><li class=\"yNFsl\"><a href=\"/search?q=lsu&amp;ie=UTF-8&amp;source=lnt&amp;tbs=qdr:d&amp;sa=X&amp;ved=0ahUKEwju1_aflpXnAhXOJFAKHdGuCr8QpwUIEA\">Past 24 hours</a></li><li class=\"yNFsl\"><a href=\"/search?q=lsu&amp;ie=UTF-8&amp;source=lnt&amp;tbs=qdr:w&amp;sa=X&amp;ved=0ahUKEwju1_aflpXnAhXOJFAKHdGuCr8QpwUIEQ\">Past week</a></li><li class=\"yNFsl\"><a href=\"/search?q=lsu&amp;ie=UTF-8&amp;source=lnt&amp;tbs=qdr:m&amp;sa=X&amp;ved=0ahUKEwju1_aflpXnAhXOJFAKHdGuCr8QpwUIEg\">Past month</a></li><li class=\"yNFsl\"><a href=\"/search?q=lsu&amp;ie=UTF-8&amp;source=lnt&amp;tbs=qdr:y&amp;sa=X&amp;ved=0ahUKEwju1_aflpXnAhXOJFAKHdGuCr8QpwUIEw\">Past year</a></li></ul></div><div class=\"PA9J5\"><div class=\"RXaOfd\" role=\"button\" tabindex=\"0\"><div class=\"TWMOUc\">All results</div><span class=\"OmTIzf\"></span></div><ul class=\"sa1toc ozatM\"><li class=\"yNFsl SkUj4c\">All results</li><li class=\"yNFsl\"><a href=\"/search?q=lsu&amp;ie=UTF-8&amp;source=lnt&amp;tbs=li:1&amp;sa=X&amp;ved=0ahUKEwju1_aflpXnAhXOJFAKHdGuCr8QpwUIFQ\">Verbatim</a></li></ul></div></div></div></div><script nonce=\"YmQl8F9BSGhDHcoVy5TsCg==\">(function(){\n"
          ],
          "name": "stdout"
        }
      ]
    },
    {
      "cell_type": "markdown",
      "metadata": {
        "id": "8_wG_TQLDYA5",
        "colab_type": "text"
      },
      "source": [
        "## Beautiful Soup Library"
      ]
    },
    {
      "cell_type": "markdown",
      "metadata": {
        "id": "ela1XItgECfO",
        "colab_type": "text"
      },
      "source": [
        "*Print all the links (`a href=`) in a webpage*"
      ]
    },
    {
      "cell_type": "code",
      "metadata": {
        "id": "VRb3IvzJDZ0d",
        "colab_type": "code",
        "outputId": "41c32825-02fa-4ed9-a413-60d887936b1e",
        "colab": {
          "base_uri": "https://localhost:8080/",
          "height": 572
        }
      },
      "source": [
        "from bs4 import BeautifulSoup\n",
        "import requests\n",
        "\n",
        "response = requests.get(\"http://www.reddit.com\")\n",
        "\n",
        "soup = BeautifulSoup(response.text)\n",
        "for links in soup.find_all('a'):\n",
        "#  print(links.get('href'))\n",
        "  print(links)"
      ],
      "execution_count": 0,
      "outputs": [
        {
          "output_type": "stream",
          "text": [
            "<a aria-label=\"Home\" class=\"_30BbATRhFv3V83DHNDjJAO\" href=\"/\"><svg class=\"_1O4jTk-dZ-VIxsCuYB6OR8\" viewbox=\"0 0 20 20\" xmlns=\"http://www.w3.org/2000/svg\"><g><circle cx=\"10\" cy=\"10\" fill=\"#FF4500\" r=\"10\"></circle><path d=\"M16.67,10A1.46,1.46,0,0,0,14.2,9a7.12,7.12,0,0,0-3.85-1.23L11,4.65,13.14,5.1a1,1,0,1,0,.13-0.61L10.82,4a0.31,0.31,0,0,0-.37.24L9.71,7.71a7.14,7.14,0,0,0-3.9,1.23A1.46,1.46,0,1,0,4.2,11.33a2.87,2.87,0,0,0,0,.44c0,2.24,2.61,4.06,5.83,4.06s5.83-1.82,5.83-4.06a2.87,2.87,0,0,0,0-.44A1.46,1.46,0,0,0,16.67,10Zm-10,1a1,1,0,1,1,1,1A1,1,0,0,1,6.67,11Zm5.81,2.75a3.84,3.84,0,0,1-2.47.77,3.84,3.84,0,0,1-2.47-.77,0.27,0.27,0,0,1,.38-0.38A3.27,3.27,0,0,0,10,14a3.28,3.28,0,0,0,2.09-.61A0.27,0.27,0,1,1,12.48,13.79Zm-0.18-1.71a1,1,0,1,1,1-1A1,1,0,0,1,12.29,12.08Z\" fill=\"#FFF\"></path></g></svg><svg class=\"_1bWuGs_1sq4Pqy099x_yy-\" viewbox=\"0 0 57 18\" xmlns=\"http://www.w3.org/2000/svg\"><g fill=\"#1c1c1c\"><path d=\"M54.63,16.52V7.68h1a1,1,0,0,0,1.09-1V6.65a1,1,0,0,0-.93-1.12H54.63V3.88a1.23,1.23,0,0,0-1.12-1.23,1.2,1.2,0,0,0-1.27,1.11V5.55h-1a1,1,0,0,0-1.09,1v.07a1,1,0,0,0,.93,1.12h1.13v8.81a1.19,1.19,0,0,0,1.19,1.19h0a1.19,1.19,0,0,0,1.25-1.12A.17.17,0,0,0,54.63,16.52Z\"></path><circle cx=\"47.26\" cy=\"3.44\" fill=\"#FF4500\" r=\"2.12\"></circle><path d=\"M48.44,7.81a1.19,1.19,0,1,0-2.38,0h0v8.71a1.19,1.19,0,0,0,2.38,0Z\"></path><path d=\"M30.84,1.19A1.19,1.19,0,0,0,29.65,0h0a1.19,1.19,0,0,0-1.19,1.19V6.51a4.11,4.11,0,0,0-3-1.21c-3.1,0-5.69,2.85-5.69,6.35S22.28,18,25.42,18a4.26,4.26,0,0,0,3.1-1.23,1.17,1.17,0,0,0,1.47.8,1.2,1.2,0,0,0,.85-1.05ZM25.41,15.64c-1.83,0-3.32-1.77-3.32-4s1.48-4,3.32-4,3.31,1.78,3.31,4-1.47,3.95-3.3,3.95Z\"></path><path d=\"M43.28,1.19A1.19,1.19,0,0,0,42.09,0h0a1.18,1.18,0,0,0-1.18,1.19h0V6.51a4.15,4.15,0,0,0-3-1.21c-3.1,0-5.69,2.85-5.69,6.35S34.72,18,37.86,18A4.26,4.26,0,0,0,41,16.77a1.17,1.17,0,0,0,1.47.8,1.19,1.19,0,0,0,.85-1.05ZM37.85,15.64c-1.83,0-3.31-1.77-3.31-4s1.47-4,3.31-4,3.31,1.78,3.31,4-1.47,3.95-3.3,3.95Z\"></path><path d=\"M17.27,12.44a1.49,1.49,0,0,0,1.59-1.38v-.15a4.81,4.81,0,0,0-.1-.85A5.83,5.83,0,0,0,13.25,5.3c-3.1,0-5.69,2.85-5.69,6.35S10.11,18,13.25,18a5.66,5.66,0,0,0,4.39-1.84,1.23,1.23,0,0,0-.08-1.74l-.11-.09a1.29,1.29,0,0,0-1.58.17,3.91,3.91,0,0,1-2.62,1.12A3.54,3.54,0,0,1,10,12.44h7.27Zm-4-4.76a3.41,3.41,0,0,1,3.09,2.64H10.14A3.41,3.41,0,0,1,13.24,7.68Z\"></path><path d=\"M7.68,6.53a1.19,1.19,0,0,0-1-1.18A4.56,4.56,0,0,0,2.39,6.91V6.75A1.2,1.2,0,0,0,0,6.75v9.77a1.23,1.23,0,0,0,1.12,1.24,1.19,1.19,0,0,0,1.26-1.1.66.66,0,0,0,0-.14v-5A3.62,3.62,0,0,1,5.81,7.7a4.87,4.87,0,0,1,.54,0h.24A1.18,1.18,0,0,0,7.68,6.53Z\"></path></g></svg></a>\n",
            "<a class=\"_3dZnYgFFpifT-M_Vs2FAq6\" href=\"/\" id=\"header-quicklinks-popular\"><svg viewbox=\"0 0 20 20\" xmlns=\"http://www.w3.org/2000/svg\"><polygon points=\"12.5 3.5 20 3.5 20 11 17.5 8.5 11.25 14.75 7.5 11 2.5 16 0 13.5 7.5 6 11.25 9.75 15 6\"></polygon></svg></a>\n",
            "<a class=\"_3dZnYgFFpifT-M_Vs2FAq6\" href=\"/r/all/\" id=\"header-quicklinks-all\"><svg viewbox=\"0 0 20 20\" xmlns=\"http://www.w3.org/2000/svg\"><path d=\"M1.25,17.5V7.5h5v10Zm11.25,0h-5V5H5l5-5,5,5H12.5Zm1.25,0v-5h5v5Z\"></path></svg></a>\n",
            "<a class=\"_1HunhFR-0b-AYs0WG9mU_P _2v9O1a_TWErxU2ZPvQ5jwC _3Wg53T10KuuPmyWOMWsY2F _2nelDm85zKKmuD94NequP0\" href=\"https://www.reddit.com/login/?dest=https%3A%2F%2Fwww.reddit.com%2F\">log in</a>\n",
            "<a class=\"wLV79_wV-ziNiWmf3Y7OV Z_HUY3BUsGOBOtdmH94ZS _1QsvbCwaVtdQIYepgPK7Bu _3Wg53T10KuuPmyWOMWsY2F _2nelDm85zKKmuD94NequP0\" href=\"https://www.reddit.com/register/?dest=https%3A%2F%2Fwww.reddit.com%2F\">sign up</a>\n",
            "<a class=\"_39Glgtoolpdt4PIzcnjPSW _3LwUIE7yX7CZQKmD2L87vf _1oYEKCssGFjqxQ9jJMNj5G _1IKtbRloF_LV1hPqMzP3MC\" href=\"/hot/\" role=\"menuitem\"><span class=\"pthKOcceozMuXLYrLlbL1\"><svg class=\"_14JCwSw7Z9KVa3DJCOcJWg _2_BnLcYdo9EaJjSVrN0kdW Ls9uHSAO9p2g7EMya2KXp\" viewbox=\"0 0 20 20\" xmlns=\"http://www.w3.org/2000/svg\"><title>Hot</title><path d=\"M10.31.61a.5.5,0,0,0-.61,0C9.41.83,2.75,6.07,2.75,11.47a8.77,8.77,0,0,0,3.14,6.91.5.5,0,0,0,.75-.64,3.84,3.84,0,0,1-.55-2A7.2,7.2,0,0,1,10,9.56a7.2,7.2,0,0,1,3.91,6.23,3.84,3.84,0,0,1-.55,2,.5.5,0,0,0,.75.64,8.77,8.77,0,0,0,3.14-6.91C17.25,6.07,10.59.83,10.31.61Z\"></path></svg></span><span class=\"_2-cXnP74241WI7fpcpfPmg\">hot</span></a>\n",
            "<a class=\"_39Glgtoolpdt4PIzcnjPSW _3LwUIE7yX7CZQKmD2L87vf _1oYEKCssGFjqxQ9jJMNj5G\" href=\"/new/\" role=\"menuitem\"><span class=\"pthKOcceozMuXLYrLlbL1\"><svg class=\"_14d58ZMXxV3Byed78nS3DU _2_BnLcYdo9EaJjSVrN0kdW Ls9uHSAO9p2g7EMya2KXp\" viewbox=\"0 0 20 20\" xmlns=\"http://www.w3.org/2000/svg\"><g><polygon fill=\"inherit\" points=\"17.16 10 19.07 12.936 15.799 14.188 15.619 17.686 12.237 16.776 10.035 19.5 7.833 16.776 4.451 17.686 4.271 14.188 1 12.936 2.91 10 1 7.065 4.271 5.812 4.451 2.315 7.833 3.224 10.035 .5 12.237 3.224 15.619 2.315 15.799 5.812 19.07 7.065\"></polygon></g></svg></span><span class=\"_2-cXnP74241WI7fpcpfPmg\">new</span></a>\n",
            "<a class=\"_39Glgtoolpdt4PIzcnjPSW _3LwUIE7yX7CZQKmD2L87vf _1oYEKCssGFjqxQ9jJMNj5G\" href=\"/top/\" role=\"menuitem\"><span class=\"pthKOcceozMuXLYrLlbL1\"><svg class=\"_3rlT9yoNCxQn9Q2EW5FjjE _2_BnLcYdo9EaJjSVrN0kdW Ls9uHSAO9p2g7EMya2KXp\" viewbox=\"0 0 20 20\" xmlns=\"http://www.w3.org/2000/svg\"><g><path d=\"M1.25,17.5 L1.25,7.5 L6.25,7.5 L6.25,17.5 L1.25,17.5 Z M12.49995,17.5001 L7.49995,17.5001 L7.49995,5.0001 L4.99995,5.0001 L9.99995,0.0006 L14.99995,5.0001 L12.49995,5.0001 L12.49995,17.5001 Z M13.75,17.5 L13.75,12.5 L18.75,12.5 L18.75,17.5 L13.75,17.5 Z\" fill=\"inherit\"></path></g></svg></span><span class=\"_2-cXnP74241WI7fpcpfPmg\">top</span></a>\n",
            "<a class=\"_39Glgtoolpdt4PIzcnjPSW _3LwUIE7yX7CZQKmD2L87vf _1oYEKCssGFjqxQ9jJMNj5G\" href=\"/rising/\" role=\"menuitem\"><span class=\"pthKOcceozMuXLYrLlbL1\"><svg class=\"_3k-hLnRWy2KVi9lKrKSut _2_BnLcYdo9EaJjSVrN0kdW Ls9uHSAO9p2g7EMya2KXp\" viewbox=\"0 0 20 20\" xmlns=\"http://www.w3.org/2000/svg\"><g><path d=\"M18.5 4h-6a.5.5 0 0 0-.35.85l1.64 1.65-3.29 3.29L8.21 7.5a1 1 0 0 0-1.41 0L.65 13.65a.5.5 0 0 0 0 .71l2 2a.5.5 0 0 0 .71 0l4.14-4.15 2.29 2.29a1 1 0 0 0 1.41 0l5.3-5.29 1.65 1.65a.5.5 0 0 0 .85-.36v-6a.5.5 0 0 0-.5-.5z\" fill=\"inherit\"></path></g></svg></span><span class=\"_2-cXnP74241WI7fpcpfPmg\">rising</span></a>\n",
            "<a class=\"_3UhcBirLMXHSbN5vYYBGSF _1Q1oKEA1qDipo5Tk0b_YlY \" href=\"/subreddits/leaderboard/\">View all</a>\n",
            "<a class=\"_3K5j589m2GGg7J3pR96mQf _3VVeutMKl2leQEGhurm7YN\" href=\"/subreddits/leaderboard/sports/\">Sports</a>\n",
            "<a class=\"_3K5j589m2GGg7J3pR96mQf _3VVeutMKl2leQEGhurm7YN\" href=\"/subreddits/leaderboard/news/\">News</a>\n",
            "<a class=\"_3K5j589m2GGg7J3pR96mQf _3VVeutMKl2leQEGhurm7YN\" href=\"/subreddits/leaderboard/gaming/\">Gaming</a>\n",
            "<a class=\"_3K5j589m2GGg7J3pR96mQf _3VVeutMKl2leQEGhurm7YN\" href=\"/subreddits/leaderboard/aww/\">Aww</a>\n",
            "<a class=\"_3Eyh3vRo5o4IfzVZXhaWAG\" href=\"https://www.reddithelp.com\">help</a>\n",
            "<a class=\"_3Eyh3vRo5o4IfzVZXhaWAG\" href=\"https://www.reddit.com/mobile/download\">Reddit App</a>\n",
            "<a class=\"_3Eyh3vRo5o4IfzVZXhaWAG\" href=\"https://www.reddit.com/coins\">Reddit coins</a>\n",
            "<a class=\"_3Eyh3vRo5o4IfzVZXhaWAG\" href=\"https://www.reddit.com/premium\">Reddit premium</a>\n",
            "<a class=\"_3Eyh3vRo5o4IfzVZXhaWAG\" href=\"http://redditgifts.com/\">Reddit gifts</a>\n",
            "<a class=\"_3Eyh3vRo5o4IfzVZXhaWAG\" href=\"https://www.reddit.com/subreddits/a-1/\">Communities</a>\n",
            "<a class=\"_3Eyh3vRo5o4IfzVZXhaWAG\" href=\"https://www.reddit.com/posts/a-1/\">Top Posts</a>\n",
            "<a class=\"_3Eyh3vRo5o4IfzVZXhaWAG\" href=\"https://www.reddit.com/topics/a-1/\">Topics</a>\n",
            "<a class=\"_3Eyh3vRo5o4IfzVZXhaWAG\" href=\"https://about.reddit.com\">about</a>\n",
            "<a class=\"_3Eyh3vRo5o4IfzVZXhaWAG\" href=\"https://about.reddit.com/careers/\">careers</a>\n",
            "<a class=\"_3Eyh3vRo5o4IfzVZXhaWAG\" href=\"https://about.reddit.com/press/\">press</a>\n",
            "<a class=\"_3Eyh3vRo5o4IfzVZXhaWAG\" href=\"https://www.redditinc.com/advertising\">advertise</a>\n",
            "<a class=\"_3Eyh3vRo5o4IfzVZXhaWAG\" href=\"http://www.redditblog.com/\">blog</a>\n",
            "<a class=\"_3Eyh3vRo5o4IfzVZXhaWAG\" href=\"https://www.redditinc.com/policies/user-agreement\">Terms</a>\n",
            "<a class=\"_3Eyh3vRo5o4IfzVZXhaWAG\" href=\"https://www.redditinc.com/policies/content-policy\">Content policy</a>\n",
            "<a class=\"_3Eyh3vRo5o4IfzVZXhaWAG\" href=\"https://www.reddit.com/help/privacypolicy\">Privacy policy</a>\n",
            "<a class=\"_3Eyh3vRo5o4IfzVZXhaWAG\" href=\"https://www.reddit.com/help/healthycommunities/\">Mod policy</a>\n"
          ],
          "name": "stdout"
        }
      ]
    }
  ]
}